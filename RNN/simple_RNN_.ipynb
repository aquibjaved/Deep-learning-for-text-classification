{
  "nbformat": 4,
  "nbformat_minor": 0,
  "metadata": {
    "colab": {
      "name": "simple RNN .ipynb",
      "version": "0.3.2",
      "provenance": [],
      "include_colab_link": true
    },
    "language_info": {
      "codemirror_mode": {
        "name": "ipython",
        "version": 3
      },
      "file_extension": ".py",
      "mimetype": "text/x-python",
      "name": "python",
      "nbconvert_exporter": "python",
      "pygments_lexer": "ipython3",
      "version": "3.6.4"
    },
    "kernelspec": {
      "display_name": "Python (py3)",
      "language": "python",
      "name": "py3"
    },
    "accelerator": "GPU"
  },
  "cells": [
    {
      "cell_type": "markdown",
      "metadata": {
        "id": "view-in-github",
        "colab_type": "text"
      },
      "source": [
        "<a href=\"https://colab.research.google.com/github/aquibjaved/Deep-learning-for-text-classification/blob/master/RNN/simple_RNN_.ipynb\" target=\"_parent\"><img src=\"https://colab.research.google.com/assets/colab-badge.svg\" alt=\"Open In Colab\"/></a>"
      ]
    },
    {
      "cell_type": "code",
      "metadata": {
        "id": "jXJuJVFrLMch",
        "colab_type": "code",
        "colab": {}
      },
      "source": [
        "import os\n",
        "from gensim import models\n",
        "import numpy as np\n",
        "import pandas as pd\n",
        "from tqdm import tqdm\n",
        "tqdm.pandas()\n",
        "\n",
        "import matplotlib.pyplot as plt\n",
        "%matplotlib inline"
      ],
      "execution_count": 0,
      "outputs": []
    },
    {
      "cell_type": "code",
      "metadata": {
        "id": "faDOzwsZMF7O",
        "colab_type": "code",
        "colab": {
          "base_uri": "https://localhost:8080/",
          "height": 51
        },
        "outputId": "e54b2576-7dfb-4288-de64-839a4b382047"
      },
      "source": [
        "# Install the PyDrive wrapper & import libraries.\n",
        "# This only needs to be done once per notebook.\n",
        "!pip install -U -q PyDrive\n",
        "from pydrive.auth import GoogleAuth\n",
        "from pydrive.drive import GoogleDrive\n",
        "from google.colab import auth\n",
        "from oauth2client.client import GoogleCredentials\n",
        "\n",
        "# Authenticate and create the PyDrive client.\n",
        "# This only needs to be done once per notebook.\n",
        "auth.authenticate_user()\n",
        "gauth = GoogleAuth()\n",
        "gauth.credentials = GoogleCredentials.get_application_default()\n",
        "drive = GoogleDrive(gauth)"
      ],
      "execution_count": 3,
      "outputs": [
        {
          "output_type": "stream",
          "text": [
            "\u001b[?25l\r\u001b[K     |▎                               | 10kB 20.1MB/s eta 0:00:01\r\u001b[K     |▋                               | 20kB 4.3MB/s eta 0:00:01\r\u001b[K     |█                               | 30kB 6.1MB/s eta 0:00:01\r\u001b[K     |█▎                              | 40kB 3.9MB/s eta 0:00:01\r\u001b[K     |█▋                              | 51kB 4.8MB/s eta 0:00:01\r\u001b[K     |██                              | 61kB 5.7MB/s eta 0:00:01\r\u001b[K     |██▎                             | 71kB 6.5MB/s eta 0:00:01\r\u001b[K     |██▋                             | 81kB 7.3MB/s eta 0:00:01\r\u001b[K     |███                             | 92kB 8.1MB/s eta 0:00:01\r\u001b[K     |███▎                            | 102kB 6.4MB/s eta 0:00:01\r\u001b[K     |███▋                            | 112kB 6.4MB/s eta 0:00:01\r\u001b[K     |████                            | 122kB 6.4MB/s eta 0:00:01\r\u001b[K     |████▎                           | 133kB 6.4MB/s eta 0:00:01\r\u001b[K     |████▋                           | 143kB 6.4MB/s eta 0:00:01\r\u001b[K     |█████                           | 153kB 6.4MB/s eta 0:00:01\r\u001b[K     |█████▎                          | 163kB 6.4MB/s eta 0:00:01\r\u001b[K     |█████▋                          | 174kB 6.4MB/s eta 0:00:01\r\u001b[K     |██████                          | 184kB 6.4MB/s eta 0:00:01\r\u001b[K     |██████▎                         | 194kB 6.4MB/s eta 0:00:01\r\u001b[K     |██████▋                         | 204kB 6.4MB/s eta 0:00:01\r\u001b[K     |███████                         | 215kB 6.4MB/s eta 0:00:01\r\u001b[K     |███████▎                        | 225kB 6.4MB/s eta 0:00:01\r\u001b[K     |███████▋                        | 235kB 6.4MB/s eta 0:00:01\r\u001b[K     |████████                        | 245kB 6.4MB/s eta 0:00:01\r\u001b[K     |████████▎                       | 256kB 6.4MB/s eta 0:00:01\r\u001b[K     |████████▋                       | 266kB 6.4MB/s eta 0:00:01\r\u001b[K     |█████████                       | 276kB 6.4MB/s eta 0:00:01\r\u001b[K     |█████████▎                      | 286kB 6.4MB/s eta 0:00:01\r\u001b[K     |█████████▋                      | 296kB 6.4MB/s eta 0:00:01\r\u001b[K     |██████████                      | 307kB 6.4MB/s eta 0:00:01\r\u001b[K     |██████████▎                     | 317kB 6.4MB/s eta 0:00:01\r\u001b[K     |██████████▋                     | 327kB 6.4MB/s eta 0:00:01\r\u001b[K     |███████████                     | 337kB 6.4MB/s eta 0:00:01\r\u001b[K     |███████████▎                    | 348kB 6.4MB/s eta 0:00:01\r\u001b[K     |███████████▋                    | 358kB 6.4MB/s eta 0:00:01\r\u001b[K     |████████████                    | 368kB 6.4MB/s eta 0:00:01\r\u001b[K     |████████████▎                   | 378kB 6.4MB/s eta 0:00:01\r\u001b[K     |████████████▋                   | 389kB 6.4MB/s eta 0:00:01\r\u001b[K     |█████████████                   | 399kB 6.4MB/s eta 0:00:01\r\u001b[K     |█████████████▎                  | 409kB 6.4MB/s eta 0:00:01\r\u001b[K     |█████████████▋                  | 419kB 6.4MB/s eta 0:00:01\r\u001b[K     |██████████████                  | 430kB 6.4MB/s eta 0:00:01\r\u001b[K     |██████████████▎                 | 440kB 6.4MB/s eta 0:00:01\r\u001b[K     |██████████████▋                 | 450kB 6.4MB/s eta 0:00:01\r\u001b[K     |███████████████                 | 460kB 6.4MB/s eta 0:00:01\r\u001b[K     |███████████████▎                | 471kB 6.4MB/s eta 0:00:01\r\u001b[K     |███████████████▋                | 481kB 6.4MB/s eta 0:00:01\r\u001b[K     |████████████████                | 491kB 6.4MB/s eta 0:00:01\r\u001b[K     |████████████████▎               | 501kB 6.4MB/s eta 0:00:01\r\u001b[K     |████████████████▋               | 512kB 6.4MB/s eta 0:00:01\r\u001b[K     |█████████████████               | 522kB 6.4MB/s eta 0:00:01\r\u001b[K     |█████████████████▎              | 532kB 6.4MB/s eta 0:00:01\r\u001b[K     |█████████████████▋              | 542kB 6.4MB/s eta 0:00:01\r\u001b[K     |██████████████████              | 552kB 6.4MB/s eta 0:00:01\r\u001b[K     |██████████████████▎             | 563kB 6.4MB/s eta 0:00:01\r\u001b[K     |██████████████████▋             | 573kB 6.4MB/s eta 0:00:01\r\u001b[K     |███████████████████             | 583kB 6.4MB/s eta 0:00:01\r\u001b[K     |███████████████████▎            | 593kB 6.4MB/s eta 0:00:01\r\u001b[K     |███████████████████▋            | 604kB 6.4MB/s eta 0:00:01\r\u001b[K     |████████████████████            | 614kB 6.4MB/s eta 0:00:01\r\u001b[K     |████████████████████▎           | 624kB 6.4MB/s eta 0:00:01\r\u001b[K     |████████████████████▋           | 634kB 6.4MB/s eta 0:00:01\r\u001b[K     |█████████████████████           | 645kB 6.4MB/s eta 0:00:01\r\u001b[K     |█████████████████████▎          | 655kB 6.4MB/s eta 0:00:01\r\u001b[K     |█████████████████████▋          | 665kB 6.4MB/s eta 0:00:01\r\u001b[K     |██████████████████████          | 675kB 6.4MB/s eta 0:00:01\r\u001b[K     |██████████████████████▎         | 686kB 6.4MB/s eta 0:00:01\r\u001b[K     |██████████████████████▋         | 696kB 6.4MB/s eta 0:00:01\r\u001b[K     |███████████████████████         | 706kB 6.4MB/s eta 0:00:01\r\u001b[K     |███████████████████████▎        | 716kB 6.4MB/s eta 0:00:01\r\u001b[K     |███████████████████████▋        | 727kB 6.4MB/s eta 0:00:01\r\u001b[K     |████████████████████████        | 737kB 6.4MB/s eta 0:00:01\r\u001b[K     |████████████████████████▎       | 747kB 6.4MB/s eta 0:00:01\r\u001b[K     |████████████████████████▋       | 757kB 6.4MB/s eta 0:00:01\r\u001b[K     |████████████████████████▉       | 768kB 6.4MB/s eta 0:00:01\r\u001b[K     |█████████████████████████▏      | 778kB 6.4MB/s eta 0:00:01\r\u001b[K     |█████████████████████████▌      | 788kB 6.4MB/s eta 0:00:01\r\u001b[K     |█████████████████████████▉      | 798kB 6.4MB/s eta 0:00:01\r\u001b[K     |██████████████████████████▏     | 808kB 6.4MB/s eta 0:00:01\r\u001b[K     |██████████████████████████▌     | 819kB 6.4MB/s eta 0:00:01\r\u001b[K     |██████████████████████████▉     | 829kB 6.4MB/s eta 0:00:01\r\u001b[K     |███████████████████████████▏    | 839kB 6.4MB/s eta 0:00:01\r\u001b[K     |███████████████████████████▌    | 849kB 6.4MB/s eta 0:00:01\r\u001b[K     |███████████████████████████▉    | 860kB 6.4MB/s eta 0:00:01\r\u001b[K     |████████████████████████████▏   | 870kB 6.4MB/s eta 0:00:01\r\u001b[K     |████████████████████████████▌   | 880kB 6.4MB/s eta 0:00:01\r\u001b[K     |████████████████████████████▉   | 890kB 6.4MB/s eta 0:00:01\r\u001b[K     |█████████████████████████████▏  | 901kB 6.4MB/s eta 0:00:01\r\u001b[K     |█████████████████████████████▌  | 911kB 6.4MB/s eta 0:00:01\r\u001b[K     |█████████████████████████████▉  | 921kB 6.4MB/s eta 0:00:01\r\u001b[K     |██████████████████████████████▏ | 931kB 6.4MB/s eta 0:00:01\r\u001b[K     |██████████████████████████████▌ | 942kB 6.4MB/s eta 0:00:01\r\u001b[K     |██████████████████████████████▉ | 952kB 6.4MB/s eta 0:00:01\r\u001b[K     |███████████████████████████████▏| 962kB 6.4MB/s eta 0:00:01\r\u001b[K     |███████████████████████████████▌| 972kB 6.4MB/s eta 0:00:01\r\u001b[K     |███████████████████████████████▉| 983kB 6.4MB/s eta 0:00:01\r\u001b[K     |████████████████████████████████| 993kB 6.4MB/s \n",
            "\u001b[?25h  Building wheel for PyDrive (setup.py) ... \u001b[?25l\u001b[?25hdone\n"
          ],
          "name": "stdout"
        }
      ]
    },
    {
      "cell_type": "code",
      "metadata": {
        "id": "7AOqzY2PY_Fd",
        "colab_type": "code",
        "colab": {}
      },
      "source": [
        "# Download a file based on its file ID.\n",
        "#\n",
        "# A file ID looks like: laggVyWshwcyP6kEI-y_W3P8D26sz\n",
        "file_id = '19vFHpNAuEUZIbOYrlXDRWJPOoXLMv3bX'\n",
        "downloaded = drive.CreateFile({'id': file_id})\n",
        "\n",
        "download = drive.CreateFile({'id': file_id})\n",
        "download.GetContentFile('DOWNLOAD.tar')\n",
        "\n",
        "# print('Downloaded content \"{}\"'.format(downloaded.GetContentString()))"
      ],
      "execution_count": 0,
      "outputs": []
    },
    {
      "cell_type": "code",
      "metadata": {
        "id": "wvuLsJScZwxo",
        "colab_type": "code",
        "colab": {
          "base_uri": "https://localhost:8080/",
          "height": 34
        },
        "outputId": "d3d86375-5142-4156-face-f9520c891c8d"
      },
      "source": [
        "!pwd"
      ],
      "execution_count": 10,
      "outputs": [
        {
          "output_type": "stream",
          "text": [
            "/content\n"
          ],
          "name": "stdout"
        }
      ]
    },
    {
      "cell_type": "code",
      "metadata": {
        "id": "TeGBDlRNLMcl",
        "colab_type": "code",
        "colab": {
          "base_uri": "https://localhost:8080/",
          "height": 34
        },
        "outputId": "e15f3801-23bc-4e0c-ff0e-6ed29fad1c91"
      },
      "source": [
        "embeddings_index = {}\n",
        "f = open('../content/Deep_learning_for_text_classification/embeddings/glove.6B.50d.txt')\n",
        "for line in f:\n",
        "    values = line.split()\n",
        "    word = values[0]\n",
        "    coefs = np.asarray(values[1:], dtype='float32')\n",
        "    embeddings_index[word] = coefs\n",
        "f.close()\n",
        "\n",
        "print('Found %s word vectors.' % len(embeddings_index))"
      ],
      "execution_count": 12,
      "outputs": [
        {
          "output_type": "stream",
          "text": [
            "Found 400000 word vectors.\n"
          ],
          "name": "stdout"
        }
      ]
    },
    {
      "cell_type": "code",
      "metadata": {
        "id": "0MIi-WLxLMcq",
        "colab_type": "code",
        "colab": {
          "base_uri": "https://localhost:8080/",
          "height": 34
        },
        "outputId": "2d2a4da5-e5a3-413d-fc17-20823e36c916"
      },
      "source": [
        "from numpy import zeros\n",
        "import keras\n",
        "import tensorflow as tf\n",
        "from keras.preprocessing.text import Tokenizer\n",
        "from keras.preprocessing.sequence import pad_sequences\n",
        "from keras.models import Sequential\n",
        "from keras.callbacks import EarlyStopping\n",
        "from keras.layers.embeddings import Embedding"
      ],
      "execution_count": 13,
      "outputs": [
        {
          "output_type": "stream",
          "text": [
            "Using TensorFlow backend.\n"
          ],
          "name": "stderr"
        }
      ]
    },
    {
      "cell_type": "code",
      "metadata": {
        "id": "3kRlHZDjLMct",
        "colab_type": "code",
        "colab": {}
      },
      "source": [
        "# Reading data\n",
        "train_df = pd.read_csv('../content/Deep_learning_for_text_classification/Data/imdb_master.csv', encoding = \"ISO-8859-1\")"
      ],
      "execution_count": 0,
      "outputs": []
    },
    {
      "cell_type": "code",
      "metadata": {
        "id": "4K-bWdC7LMcw",
        "colab_type": "code",
        "colab": {}
      },
      "source": [
        "train_df = train_df.drop([\"Unnamed: 0\",\"file\", \"type\"], axis=1)\n",
        "train_df = train_df[train_df.label != 'unsup']\n",
        "train_df[\"label\"] = train_df[\"label\"].map({\"pos\":1,\"neg\":0})"
      ],
      "execution_count": 0,
      "outputs": []
    },
    {
      "cell_type": "code",
      "metadata": {
        "id": "uFSFrCt2LMcy",
        "colab_type": "code",
        "colab": {}
      },
      "source": [
        "# Cleaning and Pre Processing text\n",
        "import re\n",
        "\n",
        "def clean_numbers(text):\n",
        "    text = re.sub('[0-9]{5,}', '#####', text)\n",
        "    text = re.sub('[0-9]{4}', '####', text)\n",
        "    text = re.sub('[0-9]{3}', '###', text)\n",
        "    text = re.sub('[0-9]{2}', '##', text)\n",
        "    return text\n",
        "\n",
        "def clean_text(text):\n",
        "    text = clean_numbers(text)\n",
        "    text = str(text)\n",
        "\n",
        "    for punct in \"/-'\":\n",
        "        text = text.replace(punct, ' ')\n",
        "    for punct in '&':\n",
        "        text = text.replace(punct, f' {punct} ')\n",
        "    for punct in '?!.,\"$%\\'()*+-/:;<=>@[\\\\]^_`{|}~' + '“”’':\n",
        "        text = text.replace(punct, '')\n",
        "\n",
        "    text = text.lower()\n",
        "    return text"
      ],
      "execution_count": 0,
      "outputs": []
    },
    {
      "cell_type": "code",
      "metadata": {
        "id": "jfTm-Rx9LMc0",
        "colab_type": "code",
        "colab": {
          "base_uri": "https://localhost:8080/",
          "height": 51
        },
        "outputId": "6f163c54-5596-4541-bfb3-2941b08b5c95"
      },
      "source": [
        "# Clean text in dataFrame\n",
        "train_df[\"processed_data\"] = train_df[\"review\"].progress_apply(lambda x: clean_text(x))\n",
        "train_df[\"length\"] = train_df[\"processed_data\"].progress_apply(lambda x: len(x.split()))"
      ],
      "execution_count": 18,
      "outputs": [
        {
          "output_type": "stream",
          "text": [
            "100%|██████████| 50000/50000 [00:08<00:00, 5671.09it/s]\n",
            "100%|██████████| 50000/50000 [00:00<00:00, 63585.32it/s]\n"
          ],
          "name": "stderr"
        }
      ]
    },
    {
      "cell_type": "code",
      "metadata": {
        "id": "uFYoDQZCLMc3",
        "colab_type": "code",
        "colab": {}
      },
      "source": [
        "docs = train_df[\"processed_data\"].values\n",
        "labels = train_df[\"label\"].values"
      ],
      "execution_count": 0,
      "outputs": []
    },
    {
      "cell_type": "code",
      "metadata": {
        "id": "Z5joBRGqLMc5",
        "colab_type": "code",
        "colab": {
          "base_uri": "https://localhost:8080/",
          "height": 34
        },
        "outputId": "9b58c3ea-c84b-4bb8-f489-d645d088997e"
      },
      "source": [
        "# Import gc, clearing some memory in ram\n",
        "import gc\n",
        "del train_df\n",
        "gc.collect()"
      ],
      "execution_count": 20,
      "outputs": [
        {
          "output_type": "execute_result",
          "data": {
            "text/plain": [
              "21"
            ]
          },
          "metadata": {
            "tags": []
          },
          "execution_count": 20
        }
      ]
    },
    {
      "cell_type": "code",
      "metadata": {
        "id": "EFKi1FHHLMc9",
        "colab_type": "code",
        "colab": {}
      },
      "source": [
        "# prepare tokenizer\n",
        "t = Tokenizer()\n",
        "t.fit_on_texts(docs)\n",
        "vocab_size = len(t.word_index) + 1"
      ],
      "execution_count": 0,
      "outputs": []
    },
    {
      "cell_type": "code",
      "metadata": {
        "id": "dRw_w640LMdA",
        "colab_type": "code",
        "colab": {}
      },
      "source": [
        "# integer encode the documents\n",
        "encoded_docs = t.texts_to_sequences(docs)"
      ],
      "execution_count": 0,
      "outputs": []
    },
    {
      "cell_type": "code",
      "metadata": {
        "id": "EEwkAvzCLMdC",
        "colab_type": "code",
        "colab": {}
      },
      "source": [
        "# pad documents to a max length of max words\n",
        "max_length = 150\n",
        "padded_docs = pad_sequences(encoded_docs, maxlen=max_length, padding='post')"
      ],
      "execution_count": 0,
      "outputs": []
    },
    {
      "cell_type": "code",
      "metadata": {
        "id": "rcy-F6JKLMdE",
        "colab_type": "code",
        "colab": {}
      },
      "source": [
        "# create a weight matrix for words in training docs\n",
        "embedding_matrix = zeros((vocab_size, 50))\n",
        "for word, i in t.word_index.items():\n",
        "    embedding_vector = embeddings_index.get(word)\n",
        "    if embedding_vector is not None:\n",
        "        embedding_matrix[i] = embedding_vector"
      ],
      "execution_count": 0,
      "outputs": []
    },
    {
      "cell_type": "code",
      "metadata": {
        "id": "bAKRWW-eLMdH",
        "colab_type": "code",
        "colab": {}
      },
      "source": [
        "# Create Train/Test data\n",
        "from sklearn.model_selection import train_test_split\n",
        "\n",
        "X_train, X_test, y_train, y_test = train_test_split(\n",
        "    padded_docs, labels, test_size=0.2, random_state=42)"
      ],
      "execution_count": 0,
      "outputs": []
    },
    {
      "cell_type": "code",
      "metadata": {
        "id": "qTlMgJZdLMdJ",
        "colab_type": "code",
        "colab": {}
      },
      "source": [
        "vocab_size = vocab_size\n",
        "\n",
        "model = keras.Sequential()\n",
        "model.add(keras.layers.Embedding(vocab_size, 50, weights=[embedding_matrix], \n",
        "                                 input_length=max_length, trainable=False))\n",
        "\n",
        "model.add(keras.layers.CuDNNLSTM((128),  return_sequences=True))\n",
        "model.add(keras.layers.CuDNNLSTM((64),  return_sequences=False))\n",
        "model.add(keras.layers.Dense(1, activation='sigmoid'))"
      ],
      "execution_count": 0,
      "outputs": []
    },
    {
      "cell_type": "code",
      "metadata": {
        "id": "eOSnkfxaLMdM",
        "colab_type": "code",
        "colab": {}
      },
      "source": [
        "model.compile(loss='binary_crossentropy', optimizer='adam', metrics=['accuracy'])"
      ],
      "execution_count": 0,
      "outputs": []
    },
    {
      "cell_type": "code",
      "metadata": {
        "id": "CxhGxUB8LMdP",
        "colab_type": "code",
        "colab": {
          "base_uri": "https://localhost:8080/",
          "height": 272
        },
        "outputId": "caa86c34-4cbe-482a-b1c0-4819009d8126"
      },
      "source": [
        "model.summary()"
      ],
      "execution_count": 33,
      "outputs": [
        {
          "output_type": "stream",
          "text": [
            "_________________________________________________________________\n",
            "Layer (type)                 Output Shape              Param #   \n",
            "=================================================================\n",
            "embedding_3 (Embedding)      (None, 150, 50)           7018250   \n",
            "_________________________________________________________________\n",
            "cu_dnnlstm_1 (CuDNNLSTM)     (None, 150, 128)          92160     \n",
            "_________________________________________________________________\n",
            "cu_dnnlstm_2 (CuDNNLSTM)     (None, 64)                49664     \n",
            "_________________________________________________________________\n",
            "dense_2 (Dense)              (None, 1)                 65        \n",
            "=================================================================\n",
            "Total params: 7,160,139\n",
            "Trainable params: 141,889\n",
            "Non-trainable params: 7,018,250\n",
            "_________________________________________________________________\n"
          ],
          "name": "stdout"
        }
      ]
    },
    {
      "cell_type": "code",
      "metadata": {
        "id": "nRmohZeFLMdT",
        "colab_type": "code",
        "colab": {
          "base_uri": "https://localhost:8080/",
          "height": 374
        },
        "outputId": "dc1394a7-0230-4318-c767-65c05b39a75e"
      },
      "source": [
        "history = model.fit(X_train,y_train, epochs=10, validation_data=(X_test,y_test), batch_size=256)"
      ],
      "execution_count": 36,
      "outputs": [
        {
          "output_type": "stream",
          "text": [
            "Train on 40000 samples, validate on 10000 samples\n",
            "Epoch 1/10\n",
            "40000/40000 [==============================] - 12s 299us/step - loss: 0.3249 - acc: 0.8590 - val_loss: 0.3699 - val_acc: 0.8322\n",
            "Epoch 2/10\n",
            "40000/40000 [==============================] - 12s 297us/step - loss: 0.3232 - acc: 0.8588 - val_loss: 0.3349 - val_acc: 0.8563\n",
            "Epoch 3/10\n",
            "40000/40000 [==============================] - 12s 293us/step - loss: 0.3043 - acc: 0.8687 - val_loss: 0.3320 - val_acc: 0.8583\n",
            "Epoch 4/10\n",
            "40000/40000 [==============================] - 12s 293us/step - loss: 0.3131 - acc: 0.8632 - val_loss: 0.3638 - val_acc: 0.8377\n",
            "Epoch 5/10\n",
            "40000/40000 [==============================] - 12s 294us/step - loss: 0.2996 - acc: 0.8727 - val_loss: 0.3392 - val_acc: 0.8537\n",
            "Epoch 6/10\n",
            "40000/40000 [==============================] - 12s 298us/step - loss: 0.2796 - acc: 0.8791 - val_loss: 0.3334 - val_acc: 0.8611\n",
            "Epoch 7/10\n",
            "40000/40000 [==============================] - 12s 298us/step - loss: 0.2678 - acc: 0.8868 - val_loss: 0.3250 - val_acc: 0.8589\n",
            "Epoch 8/10\n",
            "40000/40000 [==============================] - 12s 295us/step - loss: 0.2599 - acc: 0.8897 - val_loss: 0.3207 - val_acc: 0.8649\n",
            "Epoch 9/10\n",
            "40000/40000 [==============================] - 12s 298us/step - loss: 0.2474 - acc: 0.8970 - val_loss: 0.3304 - val_acc: 0.8537\n",
            "Epoch 10/10\n",
            "40000/40000 [==============================] - 12s 297us/step - loss: 0.2392 - acc: 0.9009 - val_loss: 0.3349 - val_acc: 0.8605\n"
          ],
          "name": "stdout"
        }
      ]
    },
    {
      "cell_type": "code",
      "metadata": {
        "id": "3EvboF3fLMdW",
        "colab_type": "code",
        "colab": {
          "base_uri": "https://localhost:8080/",
          "height": 573
        },
        "outputId": "92ea9d6a-1ecc-4a32-c925-dacc76dbd9b3"
      },
      "source": [
        "# Plot training & validation accuracy values\n",
        "plt.plot(history.history['acc'])\n",
        "plt.plot(history.history['val_acc'])\n",
        "plt.title('Model accuracy')\n",
        "plt.ylabel('Accuracy')\n",
        "plt.xlabel('Epoch')\n",
        "plt.legend(['Train', 'Test'], loc='upper left')\n",
        "plt.show()\n",
        "\n",
        "# Plot training & validation loss values\n",
        "plt.plot(history.history['loss'])\n",
        "plt.plot(history.history['val_loss'])\n",
        "plt.title('Model loss')\n",
        "plt.ylabel('Loss')\n",
        "plt.xlabel('Epoch')\n",
        "plt.legend(['Train', 'Test'], loc='upper left')\n",
        "plt.show()"
      ],
      "execution_count": 37,
      "outputs": [
        {
          "output_type": "display_data",
          "data": {
            "image/png": "[encoded data removed]",
            "text/plain": [
              "<Figure size 432x288 with 1 Axes>"
            ]
          },
          "metadata": {
            "tags": []
          }
        },
        {
          "output_type": "display_data",
          "data": {
            "image/png": "[encoded data removed]",
            "text/plain": [
              "<Figure size 432x288 with 1 Axes>"
            ]
          },
          "metadata": {
            "tags": []
          }
        }
      ]
    },
    {
      "cell_type": "code",
      "metadata": {
        "id": "Ddft7K-reLAp",
        "colab_type": "code",
        "colab": {}
      },
      "source": [
        ""
      ],
      "execution_count": 0,
      "outputs": []
    }
  ]
}