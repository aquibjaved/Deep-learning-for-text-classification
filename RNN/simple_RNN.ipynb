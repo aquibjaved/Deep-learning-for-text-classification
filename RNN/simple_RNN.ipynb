{
  "nbformat": 4,
  "nbformat_minor": 0,
  "metadata": {
    "colab": {
      "name": "simple_RNN.ipynb",
      "version": "0.3.2",
      "provenance": [],
      "collapsed_sections": [],
      "include_colab_link": true
    },
    "language_info": {
      "codemirror_mode": {
        "name": "ipython",
        "version": 3
      },
      "file_extension": ".py",
      "mimetype": "text/x-python",
      "name": "python",
      "nbconvert_exporter": "python",
      "pygments_lexer": "ipython3",
      "version": "3.6.4"
    },
    "kernelspec": {
      "display_name": "Python (py3)",
      "language": "python",
      "name": "py3"
    },
    "accelerator": "GPU"
  },
  "cells": [
    {
      "cell_type": "markdown",
      "metadata": {
        "id": "view-in-github",
        "colab_type": "text"
      },
      "source": [
        "<a href=\"https://colab.research.google.com/github/aquibjaved/Deep-learning-for-text-classification/blob/master/RNN/simple_RNN.ipynb\" target=\"_parent\"><img src=\"https://colab.research.google.com/assets/colab-badge.svg\" alt=\"Open In Colab\"/></a>"
      ]
    },
    {
      "cell_type": "code",
      "metadata": {
        "id": "jXJuJVFrLMch",
        "colab_type": "code",
        "colab": {}
      },
      "source": [
        "import os\n",
        "from gensim import models\n",
        "import numpy as np\n",
        "import pandas as pd\n",
        "from tqdm import tqdm\n",
        "tqdm.pandas()\n",
        "\n",
        "import matplotlib.pyplot as plt\n",
        "%matplotlib inline"
      ],
      "execution_count": 0,
      "outputs": []
    },
    {
      "cell_type": "code",
      "metadata": {
        "id": "faDOzwsZMF7O",
        "colab_type": "code",
        "outputId": "3472fc78-d3b6-409e-a26e-ce118e48ada6",
        "colab": {
          "base_uri": "https://localhost:8080/",
          "height": 51
        }
      },
      "source": [
        "# Install the PyDrive wrapper & import libraries.\n",
        "# This only needs to be done once per notebook.\n",
        "!pip install -U -q PyDrive\n",
        "from pydrive.auth import GoogleAuth\n",
        "from pydrive.drive import GoogleDrive\n",
        "from google.colab import auth\n",
        "from oauth2client.client import GoogleCredentials\n",
        "\n",
        "# Authenticate and create the PyDrive client.\n",
        "# This only needs to be done once per notebook.\n",
        "auth.authenticate_user()\n",
        "gauth = GoogleAuth()\n",
        "gauth.credentials = GoogleCredentials.get_application_default()\n",
        "drive = GoogleDrive(gauth)"
      ],
      "execution_count": 2,
      "outputs": [
        {
          "output_type": "stream",
          "text": [
            "\u001b[?25l\r\u001b[K     |▎                               | 10kB 20.8MB/s eta 0:00:01\r\u001b[K     |▋                               | 20kB 4.7MB/s eta 0:00:01\r\u001b[K     |█                               | 30kB 6.6MB/s eta 0:00:01\r\u001b[K     |█▎                              | 40kB 4.2MB/s eta 0:00:01\r\u001b[K     |█▋                              | 51kB 5.1MB/s eta 0:00:01\r\u001b[K     |██                              | 61kB 6.1MB/s eta 0:00:01\r\u001b[K     |██▎                             | 71kB 6.9MB/s eta 0:00:01\r\u001b[K     |██▋                             | 81kB 7.7MB/s eta 0:00:01\r\u001b[K     |███                             | 92kB 8.5MB/s eta 0:00:01\r\u001b[K     |███▎                            | 102kB 6.8MB/s eta 0:00:01\r\u001b[K     |███▋                            | 112kB 6.8MB/s eta 0:00:01\r\u001b[K     |████                            | 122kB 6.8MB/s eta 0:00:01\r\u001b[K     |████▎                           | 133kB 6.8MB/s eta 0:00:01\r\u001b[K     |████▋                           | 143kB 6.8MB/s eta 0:00:01\r\u001b[K     |█████                           | 153kB 6.8MB/s eta 0:00:01\r\u001b[K     |█████▎                          | 163kB 6.8MB/s eta 0:00:01\r\u001b[K     |█████▋                          | 174kB 6.8MB/s eta 0:00:01\r\u001b[K     |██████                          | 184kB 6.8MB/s eta 0:00:01\r\u001b[K     |██████▎                         | 194kB 6.8MB/s eta 0:00:01\r\u001b[K     |██████▋                         | 204kB 6.8MB/s eta 0:00:01\r\u001b[K     |███████                         | 215kB 6.8MB/s eta 0:00:01\r\u001b[K     |███████▎                        | 225kB 6.8MB/s eta 0:00:01\r\u001b[K     |███████▋                        | 235kB 6.8MB/s eta 0:00:01\r\u001b[K     |████████                        | 245kB 6.8MB/s eta 0:00:01\r\u001b[K     |████████▎                       | 256kB 6.8MB/s eta 0:00:01\r\u001b[K     |████████▋                       | 266kB 6.8MB/s eta 0:00:01\r\u001b[K     |█████████                       | 276kB 6.8MB/s eta 0:00:01\r\u001b[K     |█████████▎                      | 286kB 6.8MB/s eta 0:00:01\r\u001b[K     |█████████▋                      | 296kB 6.8MB/s eta 0:00:01\r\u001b[K     |██████████                      | 307kB 6.8MB/s eta 0:00:01\r\u001b[K     |██████████▎                     | 317kB 6.8MB/s eta 0:00:01\r\u001b[K     |██████████▋                     | 327kB 6.8MB/s eta 0:00:01\r\u001b[K     |███████████                     | 337kB 6.8MB/s eta 0:00:01\r\u001b[K     |███████████▎                    | 348kB 6.8MB/s eta 0:00:01\r\u001b[K     |███████████▋                    | 358kB 6.8MB/s eta 0:00:01\r\u001b[K     |████████████                    | 368kB 6.8MB/s eta 0:00:01\r\u001b[K     |████████████▎                   | 378kB 6.8MB/s eta 0:00:01\r\u001b[K     |████████████▋                   | 389kB 6.8MB/s eta 0:00:01\r\u001b[K     |█████████████                   | 399kB 6.8MB/s eta 0:00:01\r\u001b[K     |█████████████▎                  | 409kB 6.8MB/s eta 0:00:01\r\u001b[K     |█████████████▋                  | 419kB 6.8MB/s eta 0:00:01\r\u001b[K     |██████████████                  | 430kB 6.8MB/s eta 0:00:01\r\u001b[K     |██████████████▎                 | 440kB 6.8MB/s eta 0:00:01\r\u001b[K     |██████████████▋                 | 450kB 6.8MB/s eta 0:00:01\r\u001b[K     |███████████████                 | 460kB 6.8MB/s eta 0:00:01\r\u001b[K     |███████████████▎                | 471kB 6.8MB/s eta 0:00:01\r\u001b[K     |███████████████▋                | 481kB 6.8MB/s eta 0:00:01\r\u001b[K     |████████████████                | 491kB 6.8MB/s eta 0:00:01\r\u001b[K     |████████████████▎               | 501kB 6.8MB/s eta 0:00:01\r\u001b[K     |████████████████▋               | 512kB 6.8MB/s eta 0:00:01\r\u001b[K     |█████████████████               | 522kB 6.8MB/s eta 0:00:01\r\u001b[K     |█████████████████▎              | 532kB 6.8MB/s eta 0:00:01\r\u001b[K     |█████████████████▋              | 542kB 6.8MB/s eta 0:00:01\r\u001b[K     |██████████████████              | 552kB 6.8MB/s eta 0:00:01\r\u001b[K     |██████████████████▎             | 563kB 6.8MB/s eta 0:00:01\r\u001b[K     |██████████████████▋             | 573kB 6.8MB/s eta 0:00:01\r\u001b[K     |███████████████████             | 583kB 6.8MB/s eta 0:00:01\r\u001b[K     |███████████████████▎            | 593kB 6.8MB/s eta 0:00:01\r\u001b[K     |███████████████████▋            | 604kB 6.8MB/s eta 0:00:01\r\u001b[K     |████████████████████            | 614kB 6.8MB/s eta 0:00:01\r\u001b[K     |████████████████████▎           | 624kB 6.8MB/s eta 0:00:01\r\u001b[K     |████████████████████▋           | 634kB 6.8MB/s eta 0:00:01\r\u001b[K     |█████████████████████           | 645kB 6.8MB/s eta 0:00:01\r\u001b[K     |█████████████████████▎          | 655kB 6.8MB/s eta 0:00:01\r\u001b[K     |█████████████████████▋          | 665kB 6.8MB/s eta 0:00:01\r\u001b[K     |██████████████████████          | 675kB 6.8MB/s eta 0:00:01\r\u001b[K     |██████████████████████▎         | 686kB 6.8MB/s eta 0:00:01\r\u001b[K     |██████████████████████▋         | 696kB 6.8MB/s eta 0:00:01\r\u001b[K     |███████████████████████         | 706kB 6.8MB/s eta 0:00:01\r\u001b[K     |███████████████████████▎        | 716kB 6.8MB/s eta 0:00:01\r\u001b[K     |███████████████████████▋        | 727kB 6.8MB/s eta 0:00:01\r\u001b[K     |████████████████████████        | 737kB 6.8MB/s eta 0:00:01\r\u001b[K     |████████████████████████▎       | 747kB 6.8MB/s eta 0:00:01\r\u001b[K     |████████████████████████▋       | 757kB 6.8MB/s eta 0:00:01\r\u001b[K     |████████████████████████▉       | 768kB 6.8MB/s eta 0:00:01\r\u001b[K     |█████████████████████████▏      | 778kB 6.8MB/s eta 0:00:01\r\u001b[K     |█████████████████████████▌      | 788kB 6.8MB/s eta 0:00:01\r\u001b[K     |█████████████████████████▉      | 798kB 6.8MB/s eta 0:00:01\r\u001b[K     |██████████████████████████▏     | 808kB 6.8MB/s eta 0:00:01\r\u001b[K     |██████████████████████████▌     | 819kB 6.8MB/s eta 0:00:01\r\u001b[K     |██████████████████████████▉     | 829kB 6.8MB/s eta 0:00:01\r\u001b[K     |███████████████████████████▏    | 839kB 6.8MB/s eta 0:00:01\r\u001b[K     |███████████████████████████▌    | 849kB 6.8MB/s eta 0:00:01\r\u001b[K     |███████████████████████████▉    | 860kB 6.8MB/s eta 0:00:01\r\u001b[K     |████████████████████████████▏   | 870kB 6.8MB/s eta 0:00:01\r\u001b[K     |████████████████████████████▌   | 880kB 6.8MB/s eta 0:00:01\r\u001b[K     |████████████████████████████▉   | 890kB 6.8MB/s eta 0:00:01\r\u001b[K     |█████████████████████████████▏  | 901kB 6.8MB/s eta 0:00:01\r\u001b[K     |█████████████████████████████▌  | 911kB 6.8MB/s eta 0:00:01\r\u001b[K     |█████████████████████████████▉  | 921kB 6.8MB/s eta 0:00:01\r\u001b[K     |██████████████████████████████▏ | 931kB 6.8MB/s eta 0:00:01\r\u001b[K     |██████████████████████████████▌ | 942kB 6.8MB/s eta 0:00:01\r\u001b[K     |██████████████████████████████▉ | 952kB 6.8MB/s eta 0:00:01\r\u001b[K     |███████████████████████████████▏| 962kB 6.8MB/s eta 0:00:01\r\u001b[K     |███████████████████████████████▌| 972kB 6.8MB/s eta 0:00:01\r\u001b[K     |███████████████████████████████▉| 983kB 6.8MB/s eta 0:00:01\r\u001b[K     |████████████████████████████████| 993kB 6.8MB/s \n",
            "\u001b[?25h  Building wheel for PyDrive (setup.py) ... \u001b[?25l\u001b[?25hdone\n"
          ],
          "name": "stdout"
        }
      ]
    },
    {
      "cell_type": "code",
      "metadata": {
        "id": "7AOqzY2PY_Fd",
        "colab_type": "code",
        "colab": {}
      },
      "source": [
        "# Download a file based on its file ID.\n",
        "#\n",
        "# A file ID looks like: laggVyWshwcyP6kEI-y_W3P8D26sz\n",
        "file_id = '19vFHpNAuEUZIbOYrlXDRWJPOoXLMv3bX'\n",
        "downloaded = drive.CreateFile({'id': file_id})\n",
        "\n",
        "download = drive.CreateFile({'id': file_id})\n",
        "download.GetContentFile('DOWNLOAD.tar')\n",
        "\n",
        "# print('Downloaded content \"{}\"'.format(downloaded.GetContentString()))"
      ],
      "execution_count": 0,
      "outputs": []
    },
    {
      "cell_type": "code",
      "metadata": {
        "id": "Se4xAVCkknS-",
        "colab_type": "code",
        "colab": {
          "base_uri": "https://localhost:8080/",
          "height": 306
        },
        "outputId": "edf54e9d-6d6a-4bb3-b842-6b847be0b963"
      },
      "source": [
        "!unzip DOWNLOAD.tar "
      ],
      "execution_count": 8,
      "outputs": [
        {
          "output_type": "stream",
          "text": [
            "Archive:  DOWNLOAD.tar\n",
            "   creating: Deep_learning_for_text_classification/\n",
            "   creating: Deep_learning_for_text_classification/embeddings/\n",
            "  inflating: Deep_learning_for_text_classification/embeddings/glove.6B.50d.txt  \n",
            "   creating: __MACOSX/\n",
            "   creating: __MACOSX/Deep_learning_for_text_classification/\n",
            "   creating: __MACOSX/Deep_learning_for_text_classification/embeddings/\n",
            "  inflating: __MACOSX/Deep_learning_for_text_classification/embeddings/._glove.6B.50d.txt  \n",
            "  inflating: Deep_learning_for_text_classification/.DS_Store  \n",
            "  inflating: __MACOSX/Deep_learning_for_text_classification/._.DS_Store  \n",
            "   creating: Deep_learning_for_text_classification/Data/\n",
            "  inflating: Deep_learning_for_text_classification/Data/imdb_master.csv  \n",
            "   creating: __MACOSX/Deep_learning_for_text_classification/Data/\n",
            "  inflating: __MACOSX/Deep_learning_for_text_classification/Data/._imdb_master.csv  \n",
            "  inflating: Deep_learning_for_text_classification/Data/.DS_Store  \n",
            "  inflating: __MACOSX/Deep_learning_for_text_classification/Data/._.DS_Store  \n",
            "  inflating: Deep_learning_for_text_classification/Data/data.txt  \n"
          ],
          "name": "stdout"
        }
      ]
    },
    {
      "cell_type": "code",
      "metadata": {
        "id": "wvuLsJScZwxo",
        "colab_type": "code",
        "outputId": "9f745441-07ef-4909-c0ee-22117da02bc0",
        "colab": {
          "base_uri": "https://localhost:8080/",
          "height": 34
        }
      },
      "source": [
        "!pwd"
      ],
      "execution_count": 30,
      "outputs": [
        {
          "output_type": "stream",
          "text": [
            "/content\n"
          ],
          "name": "stdout"
        }
      ]
    },
    {
      "cell_type": "code",
      "metadata": {
        "id": "TeGBDlRNLMcl",
        "colab_type": "code",
        "outputId": "544f1d67-0d56-4d9d-9e7a-853e19515d4d",
        "colab": {
          "base_uri": "https://localhost:8080/",
          "height": 34
        }
      },
      "source": [
        "embeddings_index = {}\n",
        "f = open('../content/Deep_learning_for_text_classification/embeddings/glove.6B.50d.txt')\n",
        "for line in f:\n",
        "\n",
        "    values = line.split()\n",
        "    word = values[0]\n",
        "    coefs = np.asarray(values[1:], dtype='float32')\n",
        "    embeddings_index[word] = coefs\n",
        "f.close()\n",
        "\n",
        "print('Found %s word vectors.' % len(embeddings_index))"
      ],
      "execution_count": 31,
      "outputs": [
        {
          "output_type": "stream",
          "text": [
            "Found 400000 word vectors.\n"
          ],
          "name": "stdout"
        }
      ]
    },
    {
      "cell_type": "code",
      "metadata": {
        "id": "0MIi-WLxLMcq",
        "colab_type": "code",
        "colab": {}
      },
      "source": [
        "from numpy import zeros\n",
        "import keras\n",
        "import tensorflow as tf\n",
        "from keras.preprocessing.text import Tokenizer\n",
        "from keras.preprocessing.sequence import pad_sequences\n",
        "from keras.models import Sequential\n",
        "from keras.callbacks import EarlyStopping\n",
        "from keras.layers.embeddings import Embedding"
      ],
      "execution_count": 0,
      "outputs": []
    },
    {
      "cell_type": "code",
      "metadata": {
        "id": "3kRlHZDjLMct",
        "colab_type": "code",
        "colab": {}
      },
      "source": [
        "# Reading data\n",
        "train_df = pd.read_csv('../content/Deep_learning_for_text_classification/Data/imdb_master.csv', encoding = \"ISO-8859-1\")"
      ],
      "execution_count": 0,
      "outputs": []
    },
    {
      "cell_type": "code",
      "metadata": {
        "id": "4K-bWdC7LMcw",
        "colab_type": "code",
        "colab": {}
      },
      "source": [
        "train_df = train_df.drop([\"Unnamed: 0\",\"file\", \"type\"], axis=1)\n",
        "train_df = train_df[train_df.label != 'unsup']\n",
        "train_df[\"label\"] = train_df[\"label\"].map({\"pos\":1,\"neg\":0})"
      ],
      "execution_count": 0,
      "outputs": []
    },
    {
      "cell_type": "code",
      "metadata": {
        "id": "uFSFrCt2LMcy",
        "colab_type": "code",
        "colab": {}
      },
      "source": [
        "# Cleaning and Pre Processing text\n",
        "import re\n",
        "\n",
        "def clean_numbers(text):\n",
        "    text = re.sub('[0-9]{5,}', '#####', text)\n",
        "    text = re.sub('[0-9]{4}', '####', text)\n",
        "    text = re.sub('[0-9]{3}', '###', text)\n",
        "    text = re.sub('[0-9]{2}', '##', text)\n",
        "    return text\n",
        "\n",
        "def clean_text(text):\n",
        "    text = clean_numbers(text)\n",
        "    text = str(text)\n",
        "\n",
        "    for punct in \"/-'\":\n",
        "        text = text.replace(punct, ' ')\n",
        "    for punct in '&':\n",
        "        text = text.replace(punct, f' {punct} ')\n",
        "    for punct in '?!.,\"$%\\'()*+-/:;<=>@[\\\\]^_`{|}~' + '“”’':\n",
        "        text = text.replace(punct, '')\n",
        "\n",
        "    text = text.lower()\n",
        "    return text"
      ],
      "execution_count": 0,
      "outputs": []
    },
    {
      "cell_type": "code",
      "metadata": {
        "id": "jfTm-Rx9LMc0",
        "colab_type": "code",
        "outputId": "b9c8fad7-06de-444d-ca96-3d283cc1691a",
        "colab": {
          "base_uri": "https://localhost:8080/",
          "height": 51
        }
      },
      "source": [
        "# Clean text in dataFrame\n",
        "train_df[\"processed_data\"] = train_df[\"review\"].progress_apply(lambda x: clean_text(x))\n",
        "train_df[\"length\"] = train_df[\"processed_data\"].progress_apply(lambda x: len(x.split()))"
      ],
      "execution_count": 37,
      "outputs": [
        {
          "output_type": "stream",
          "text": [
            "100%|██████████| 50000/50000 [00:08<00:00, 5711.58it/s]\n",
            "100%|██████████| 50000/50000 [00:00<00:00, 64391.98it/s]\n"
          ],
          "name": "stderr"
        }
      ]
    },
    {
      "cell_type": "code",
      "metadata": {
        "id": "uFYoDQZCLMc3",
        "colab_type": "code",
        "colab": {}
      },
      "source": [
        "docs = train_df[\"processed_data\"].values\n",
        "labels = train_df[\"label\"].values"
      ],
      "execution_count": 0,
      "outputs": []
    },
    {
      "cell_type": "code",
      "metadata": {
        "id": "Z5joBRGqLMc5",
        "colab_type": "code",
        "outputId": "780e4831-45fb-4f12-c5d6-e6fe1377adda",
        "colab": {
          "base_uri": "https://localhost:8080/",
          "height": 34
        }
      },
      "source": [
        "# Import gc, clearing some memory in ram\n",
        "import gc\n",
        "del train_df\n",
        "gc.collect()"
      ],
      "execution_count": 40,
      "outputs": [
        {
          "output_type": "execute_result",
          "data": {
            "text/plain": [
              "21"
            ]
          },
          "metadata": {
            "tags": []
          },
          "execution_count": 40
        }
      ]
    },
    {
      "cell_type": "code",
      "metadata": {
        "id": "EFKi1FHHLMc9",
        "colab_type": "code",
        "colab": {}
      },
      "source": [
        "# prepare tokenizer\n",
        "t = Tokenizer()\n",
        "t.fit_on_texts(docs)\n",
        "vocab_size = len(t.word_index) + 1"
      ],
      "execution_count": 0,
      "outputs": []
    },
    {
      "cell_type": "code",
      "metadata": {
        "id": "dRw_w640LMdA",
        "colab_type": "code",
        "colab": {}
      },
      "source": [
        "# integer encode the documents\n",
        "encoded_docs = t.texts_to_sequences(docs)"
      ],
      "execution_count": 0,
      "outputs": []
    },
    {
      "cell_type": "code",
      "metadata": {
        "id": "EEwkAvzCLMdC",
        "colab_type": "code",
        "colab": {}
      },
      "source": [
        "# pad documents to a max length of max words\n",
        "max_length = 150\n",
        "padded_docs = pad_sequences(encoded_docs, maxlen=max_length, padding='post')"
      ],
      "execution_count": 0,
      "outputs": []
    },
    {
      "cell_type": "code",
      "metadata": {
        "id": "rcy-F6JKLMdE",
        "colab_type": "code",
        "colab": {}
      },
      "source": [
        "# create a weight matrix for words in training docs\n",
        "embedding_matrix = zeros((vocab_size, 50))\n",
        "for word, i in t.word_index.items():\n",
        "    embedding_vector = embeddings_index.get(word)\n",
        "    if embedding_vector is not None:\n",
        "        embedding_matrix[i] = embedding_vector"
      ],
      "execution_count": 0,
      "outputs": []
    },
    {
      "cell_type": "code",
      "metadata": {
        "id": "bAKRWW-eLMdH",
        "colab_type": "code",
        "colab": {}
      },
      "source": [
        "# Create Train/Test data\n",
        "from sklearn.model_selection import train_test_split\n",
        "\n",
        "X_train, X_test, y_train, y_test = train_test_split(\n",
        "    padded_docs, labels, test_size=0.2, random_state=42)"
      ],
      "execution_count": 0,
      "outputs": []
    },
    {
      "cell_type": "code",
      "metadata": {
        "id": "qTlMgJZdLMdJ",
        "colab_type": "code",
        "colab": {}
      },
      "source": [
        "vocab_size = vocab_size\n",
        "\n",
        "model_lstm = keras.Sequential()\n",
        "model_lstm.add(keras.layers.Embedding(vocab_size, 50, weights=[embedding_matrix], \n",
        "                                 input_length=max_length, trainable=False))\n",
        "\n",
        "model_lstm.add(keras.layers.CuDNNLSTM((128),  return_sequences=True))\n",
        "model_lstm.add(keras.layers.CuDNNLSTM((64),  return_sequences=False))\n",
        "model_lstm.add(keras.layers.Dense(1, activation='sigmoid'))"
      ],
      "execution_count": 0,
      "outputs": []
    },
    {
      "cell_type": "code",
      "metadata": {
        "id": "eOSnkfxaLMdM",
        "colab_type": "code",
        "colab": {}
      },
      "source": [
        "model_lstm.compile(loss='binary_crossentropy', optimizer='adam', metrics=['accuracy'])"
      ],
      "execution_count": 0,
      "outputs": []
    },
    {
      "cell_type": "code",
      "metadata": {
        "id": "CxhGxUB8LMdP",
        "colab_type": "code",
        "outputId": "a52c3695-3eda-490f-f4d5-a505e62736ce",
        "colab": {
          "base_uri": "https://localhost:8080/",
          "height": 272
        }
      },
      "source": [
        "model.summary()"
      ],
      "execution_count": 60,
      "outputs": [
        {
          "output_type": "stream",
          "text": [
            "_________________________________________________________________\n",
            "Layer (type)                 Output Shape              Param #   \n",
            "=================================================================\n",
            "embedding_4 (Embedding)      (None, 150, 50)           7018250   \n",
            "_________________________________________________________________\n",
            "cu_dnnlstm_3 (CuDNNLSTM)     (None, 150, 128)          92160     \n",
            "_________________________________________________________________\n",
            "cu_dnnlstm_4 (CuDNNLSTM)     (None, 64)                49664     \n",
            "_________________________________________________________________\n",
            "dense_3 (Dense)              (None, 1)                 65        \n",
            "=================================================================\n",
            "Total params: 7,160,139\n",
            "Trainable params: 141,889\n",
            "Non-trainable params: 7,018,250\n",
            "_________________________________________________________________\n"
          ],
          "name": "stdout"
        }
      ]
    },
    {
      "cell_type": "code",
      "metadata": {
        "id": "nRmohZeFLMdT",
        "colab_type": "code",
        "outputId": "a7f8fcb3-a814-483e-a5f9-0a0758c03165",
        "colab": {
          "base_uri": "https://localhost:8080/",
          "height": 374
        }
      },
      "source": [
        "history = model_lstm.fit(X_train,y_train, epochs=10, validation_data=(X_test,y_test), batch_size=256)"
      ],
      "execution_count": 61,
      "outputs": [
        {
          "output_type": "stream",
          "text": [
            "Train on 40000 samples, validate on 10000 samples\n",
            "Epoch 1/10\n",
            "40000/40000 [==============================] - 13s 322us/step - loss: 0.5933 - acc: 0.6840 - val_loss: 0.5360 - val_acc: 0.7444\n",
            "Epoch 2/10\n",
            "40000/40000 [==============================] - 12s 297us/step - loss: 0.5210 - acc: 0.7491 - val_loss: 0.4909 - val_acc: 0.7763\n",
            "Epoch 3/10\n",
            "40000/40000 [==============================] - 12s 296us/step - loss: 0.4706 - acc: 0.7807 - val_loss: 0.4516 - val_acc: 0.7878\n",
            "Epoch 4/10\n",
            "40000/40000 [==============================] - 12s 297us/step - loss: 0.4191 - acc: 0.8091 - val_loss: 0.4132 - val_acc: 0.8229\n",
            "Epoch 5/10\n",
            "40000/40000 [==============================] - 12s 296us/step - loss: 0.3822 - acc: 0.8284 - val_loss: 0.4111 - val_acc: 0.8118\n",
            "Epoch 6/10\n",
            "40000/40000 [==============================] - 12s 296us/step - loss: 0.3708 - acc: 0.8351 - val_loss: 0.3605 - val_acc: 0.8414\n",
            "Epoch 7/10\n",
            "40000/40000 [==============================] - 12s 296us/step - loss: 0.3514 - acc: 0.8446 - val_loss: 0.4433 - val_acc: 0.8273\n",
            "Epoch 8/10\n",
            "40000/40000 [==============================] - 12s 298us/step - loss: 0.3435 - acc: 0.8505 - val_loss: 0.3873 - val_acc: 0.8241\n",
            "Epoch 9/10\n",
            "40000/40000 [==============================] - 12s 300us/step - loss: 0.3354 - acc: 0.8540 - val_loss: 0.3849 - val_acc: 0.8473\n",
            "Epoch 10/10\n",
            "40000/40000 [==============================] - 12s 296us/step - loss: 0.3170 - acc: 0.8645 - val_loss: 0.3532 - val_acc: 0.8550\n"
          ],
          "name": "stdout"
        }
      ]
    },
    {
      "cell_type": "code",
      "metadata": {
        "id": "3EvboF3fLMdW",
        "colab_type": "code",
        "outputId": "ff4599f8-908b-4d2f-9295-d561c1e356b8",
        "colab": {
          "base_uri": "https://localhost:8080/",
          "height": 573
        }
      },
      "source": [
        "# Plot training & validation accuracy values\n",
        "plt.plot(history.history['acc'])\n",
        "plt.plot(history.history['val_acc'])\n",
        "plt.title('Model accuracy')\n",
        "plt.ylabel('Accuracy')\n",
        "plt.xlabel('Epoch')\n",
        "plt.legend(['Train', 'Test'], loc='upper left')\n",
        "plt.show()\n",
        "\n",
        "# Plot training & validation loss values\n",
        "plt.plot(history.history['loss'])\n",
        "plt.plot(history.history['val_loss'])\n",
        "plt.title('Model loss')\n",
        "plt.ylabel('Loss')\n",
        "plt.xlabel('Epoch')\n",
        "plt.legend(['Train', 'Test'], loc='upper left')\n",
        "plt.show()"
      ],
      "execution_count": 62,
      "outputs": [
        {
          "output_type": "display_data",
          "data": {
            "image/png": "[encoded data removed]",
            "text/plain": [
              "<Figure size 432x288 with 1 Axes>"
            ]
          },
          "metadata": {
            "tags": []
          }
        },
        {
          "output_type": "display_data",
          "data": {
            "image/png": "[encoded data removed]",
            "text/plain": [
              "<Figure size 432x288 with 1 Axes>"
            ]
          },
          "metadata": {
            "tags": []
          }
        }
      ]
    },
    {
      "cell_type": "code",
      "metadata": {
        "id": "iP8bFAQ3m7cJ",
        "colab_type": "code",
        "colab": {}
      },
      "source": [
        ""
      ],
      "execution_count": 0,
      "outputs": []
    },
    {
      "cell_type": "markdown",
      "metadata": {
        "id": "JhZhMb-PnN33",
        "colab_type": "text"
      },
      "source": [
        "**Training Network with Gated Recurrent Unit**\n",
        " \n",
        "GRU is better than LSTM as it is easy to modify and doesn't need memory units, therefore, faster to train than LSTM and give as per performance.\n",
        "\n",
        "Gated recurrent units (GRUs) are a gating mechanism in recurrent neural networks, introduced in 2014 by Kyunghyun Cho et al. The GRU is like a long short-term memory (LSTM) with forget gate  but has fewer parameters than LSTM, as it lacks an output gate. GRU's performance on certain tasks of polyphonic music modeling and speech signal modeling was found to be similar to that of LSTM. GRUs have been shown to exhibit even better performance on certain smaller datasets."
      ]
    },
    {
      "cell_type": "code",
      "metadata": {
        "id": "so_gPETTm52v",
        "colab_type": "code",
        "colab": {}
      },
      "source": [
        "model_gru = keras.Sequential()\n",
        "model_gru.add(keras.layers.Embedding(vocab_size, 50, weights=[embedding_matrix], \n",
        "                                 input_length=max_length, trainable=False))\n",
        "model_gru.add(keras.layers.CuDNNGRU((128),  return_sequences=True))\n",
        "model_gru.add(keras.layers.CuDNNGRU((64),  return_sequences=False))\n",
        "model_gru.add(keras.layers.Dense(1, activation='sigmoid'))"
      ],
      "execution_count": 0,
      "outputs": []
    },
    {
      "cell_type": "code",
      "metadata": {
        "id": "Ddft7K-reLAp",
        "colab_type": "code",
        "colab": {}
      },
      "source": [
        "model_gru.compile(loss='binary_crossentropy', optimizer='adam', metrics=['accuracy'])"
      ],
      "execution_count": 0,
      "outputs": []
    },
    {
      "cell_type": "code",
      "metadata": {
        "id": "UydascQ8poC0",
        "colab_type": "code",
        "colab": {
          "base_uri": "https://localhost:8080/",
          "height": 272
        },
        "outputId": "4222a450-6bd0-40b9-80a7-22997af8fb01"
      },
      "source": [
        "model_gru.summary()"
      ],
      "execution_count": 54,
      "outputs": [
        {
          "output_type": "stream",
          "text": [
            "_________________________________________________________________\n",
            "Layer (type)                 Output Shape              Param #   \n",
            "=================================================================\n",
            "embedding_3 (Embedding)      (None, 150, 50)           7018250   \n",
            "_________________________________________________________________\n",
            "cu_dnngru_1 (CuDNNGRU)       (None, 150, 128)          69120     \n",
            "_________________________________________________________________\n",
            "cu_dnngru_2 (CuDNNGRU)       (None, 64)                37248     \n",
            "_________________________________________________________________\n",
            "dense_2 (Dense)              (None, 1)                 65        \n",
            "=================================================================\n",
            "Total params: 7,124,683\n",
            "Trainable params: 106,433\n",
            "Non-trainable params: 7,018,250\n",
            "_________________________________________________________________\n"
          ],
          "name": "stdout"
        }
      ]
    },
    {
      "cell_type": "code",
      "metadata": {
        "id": "VIA4eVpPqKQC",
        "colab_type": "code",
        "colab": {
          "base_uri": "https://localhost:8080/",
          "height": 374
        },
        "outputId": "88c63035-309e-4592-cf53-85d079dedcbb"
      },
      "source": [
        "history = model_gru.fit(X_train,y_train, epochs=10, validation_data=(X_test,y_test), batch_size=256)"
      ],
      "execution_count": 55,
      "outputs": [
        {
          "output_type": "stream",
          "text": [
            "Train on 40000 samples, validate on 10000 samples\n",
            "Epoch 1/10\n",
            "40000/40000 [==============================] - 11s 276us/step - loss: 0.5952 - acc: 0.6684 - val_loss: 0.5423 - val_acc: 0.7435\n",
            "Epoch 2/10\n",
            "40000/40000 [==============================] - 10s 257us/step - loss: 0.4469 - acc: 0.7935 - val_loss: 0.4007 - val_acc: 0.8192\n",
            "Epoch 3/10\n",
            "40000/40000 [==============================] - 10s 257us/step - loss: 0.3850 - acc: 0.8264 - val_loss: 0.3717 - val_acc: 0.8348\n",
            "Epoch 4/10\n",
            "40000/40000 [==============================] - 10s 255us/step - loss: 0.3590 - acc: 0.8404 - val_loss: 0.3767 - val_acc: 0.8362\n",
            "Epoch 5/10\n",
            "40000/40000 [==============================] - 10s 256us/step - loss: 0.3420 - acc: 0.8495 - val_loss: 0.3801 - val_acc: 0.8390\n",
            "Epoch 6/10\n",
            "40000/40000 [==============================] - 10s 259us/step - loss: 0.3283 - acc: 0.8555 - val_loss: 0.3368 - val_acc: 0.8541\n",
            "Epoch 7/10\n",
            "40000/40000 [==============================] - 10s 256us/step - loss: 0.3076 - acc: 0.8671 - val_loss: 0.3299 - val_acc: 0.8609\n",
            "Epoch 8/10\n",
            "40000/40000 [==============================] - 10s 255us/step - loss: 0.2996 - acc: 0.8721 - val_loss: 0.3408 - val_acc: 0.8574\n",
            "Epoch 9/10\n",
            "40000/40000 [==============================] - 10s 257us/step - loss: 0.2852 - acc: 0.8787 - val_loss: 0.3469 - val_acc: 0.8580\n",
            "Epoch 10/10\n",
            "40000/40000 [==============================] - 10s 255us/step - loss: 0.2835 - acc: 0.8798 - val_loss: 0.3174 - val_acc: 0.8673\n"
          ],
          "name": "stdout"
        }
      ]
    },
    {
      "cell_type": "code",
      "metadata": {
        "id": "JabHriGAqg6a",
        "colab_type": "code",
        "colab": {
          "base_uri": "https://localhost:8080/",
          "height": 573
        },
        "outputId": "621e2375-6aa9-46d8-b8cb-cecb459d3e9a"
      },
      "source": [
        "# Plot training & validation accuracy values\n",
        "plt.plot(history.history['acc'])\n",
        "plt.plot(history.history['val_acc'])\n",
        "plt.title('Model accuracy')\n",
        "plt.ylabel('Accuracy')\n",
        "plt.xlabel('Epoch')\n",
        "plt.legend(['Train', 'Test'], loc='upper left')\n",
        "plt.show()\n",
        "\n",
        "# Plot training & validation loss values\n",
        "plt.plot(history.history['loss'])\n",
        "plt.plot(history.history['val_loss'])\n",
        "plt.title('Model loss')\n",
        "plt.ylabel('Loss')\n",
        "plt.xlabel('Epoch')\n",
        "plt.legend(['Train', 'Test'], loc='upper left')\n",
        "plt.show()"
      ],
      "execution_count": 56,
      "outputs": [
        {
          "output_type": "display_data",
          "data": {
            "image/png": "[encoded data removed]",
            "text/plain": [
              "<Figure size 432x288 with 1 Axes>"
            ]
          },
          "metadata": {
            "tags": []
          }
        },
        {
          "output_type": "display_data",
          "data": {
            "image/png": "[encoded data removed]",
            "text/plain": [
              "<Figure size 432x288 with 1 Axes>"
            ]
          },
          "metadata": {
            "tags": []
          }
        }
      ]
    }
  ]
}