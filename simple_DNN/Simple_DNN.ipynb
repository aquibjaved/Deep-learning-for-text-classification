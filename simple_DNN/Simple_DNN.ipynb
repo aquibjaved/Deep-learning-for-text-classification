{
  "nbformat": 4,
  "nbformat_minor": 0,
  "metadata": {
    "colab": {
      "name": "Simple_DNN.ipynb",
      "version": "0.3.2",
      "provenance": [],
      "collapsed_sections": [],
      "include_colab_link": true
    },
    "kernelspec": {
      "name": "python3",
      "display_name": "Python 3"
    },
    "accelerator": "GPU"
  },
  "cells": [
    {
      "cell_type": "markdown",
      "metadata": {
        "id": "view-in-github",
        "colab_type": "text"
      },
      "source": [
        "<a href=\"https://colab.research.google.com/github/aquibjaved/Deep-learning-for-text-classification/blob/master/simple_DNN/Simple_DNN.ipynb\" target=\"_parent\"><img src=\"https://colab.research.google.com/assets/colab-badge.svg\" alt=\"Open In Colab\"/></a>"
      ]
    },
    {
      "cell_type": "code",
      "metadata": {
        "id": "ZmeJsEGe1sVw",
        "colab_type": "code",
        "outputId": "cd6179a8-5fb9-4bb7-977a-7664b3056a8d",
        "colab": {
          "base_uri": "https://localhost:8080/",
          "height": 51
        }
      },
      "source": [
        "# Install the PyDrive wrapper & import libraries.\n",
        "# This only needs to be done once per notebook.\n",
        "!pip install -U -q PyDrive\n",
        "from pydrive.auth import GoogleAuth\n",
        "from pydrive.drive import GoogleDrive\n",
        "from google.colab import auth\n",
        "from oauth2client.client import GoogleCredentials\n",
        "\n",
        "# Authenticate and create the PyDrive client.\n",
        "# This only needs to be done once per notebook.\n",
        "auth.authenticate_user()\n",
        "gauth = GoogleAuth()\n",
        "gauth.credentials = GoogleCredentials.get_application_default()\n",
        "drive = GoogleDrive(gauth)"
      ],
      "execution_count": 0,
      "outputs": [
        {
          "output_type": "stream",
          "text": [
            "\u001b[?25l\r\u001b[K     |▎                               | 10kB 22.1MB/s eta 0:00:01\r\u001b[K     |▋                               | 20kB 6.7MB/s eta 0:00:01\r\u001b[K     |█                               | 30kB 9.2MB/s eta 0:00:01\r\u001b[K     |█▎                              | 40kB 6.0MB/s eta 0:00:01\r\u001b[K     |█▋                              | 51kB 7.2MB/s eta 0:00:01\r\u001b[K     |██                              | 61kB 8.5MB/s eta 0:00:01\r\u001b[K     |██▎                             | 71kB 9.7MB/s eta 0:00:01\r\u001b[K     |██▋                             | 81kB 10.7MB/s eta 0:00:01\r\u001b[K     |███                             | 92kB 11.8MB/s eta 0:00:01\r\u001b[K     |███▎                            | 102kB 9.6MB/s eta 0:00:01\r\u001b[K     |███▋                            | 112kB 9.6MB/s eta 0:00:01\r\u001b[K     |████                            | 122kB 9.6MB/s eta 0:00:01\r\u001b[K     |████▎                           | 133kB 9.6MB/s eta 0:00:01\r\u001b[K     |████▋                           | 143kB 9.6MB/s eta 0:00:01\r\u001b[K     |█████                           | 153kB 9.6MB/s eta 0:00:01\r\u001b[K     |█████▎                          | 163kB 9.6MB/s eta 0:00:01\r\u001b[K     |█████▋                          | 174kB 9.6MB/s eta 0:00:01\r\u001b[K     |██████                          | 184kB 9.6MB/s eta 0:00:01\r\u001b[K     |██████▎                         | 194kB 9.6MB/s eta 0:00:01\r\u001b[K     |██████▋                         | 204kB 9.6MB/s eta 0:00:01\r\u001b[K     |███████                         | 215kB 9.6MB/s eta 0:00:01\r\u001b[K     |███████▎                        | 225kB 9.6MB/s eta 0:00:01\r\u001b[K     |███████▋                        | 235kB 9.6MB/s eta 0:00:01\r\u001b[K     |████████                        | 245kB 9.6MB/s eta 0:00:01\r\u001b[K     |████████▎                       | 256kB 9.6MB/s eta 0:00:01\r\u001b[K     |████████▋                       | 266kB 9.6MB/s eta 0:00:01\r\u001b[K     |█████████                       | 276kB 9.6MB/s eta 0:00:01\r\u001b[K     |█████████▎                      | 286kB 9.6MB/s eta 0:00:01\r\u001b[K     |█████████▋                      | 296kB 9.6MB/s eta 0:00:01\r\u001b[K     |██████████                      | 307kB 9.6MB/s eta 0:00:01\r\u001b[K     |██████████▎                     | 317kB 9.6MB/s eta 0:00:01\r\u001b[K     |██████████▋                     | 327kB 9.6MB/s eta 0:00:01\r\u001b[K     |███████████                     | 337kB 9.6MB/s eta 0:00:01\r\u001b[K     |███████████▎                    | 348kB 9.6MB/s eta 0:00:01\r\u001b[K     |███████████▋                    | 358kB 9.6MB/s eta 0:00:01\r\u001b[K     |████████████                    | 368kB 9.6MB/s eta 0:00:01\r\u001b[K     |████████████▎                   | 378kB 9.6MB/s eta 0:00:01\r\u001b[K     |████████████▋                   | 389kB 9.6MB/s eta 0:00:01\r\u001b[K     |█████████████                   | 399kB 9.6MB/s eta 0:00:01\r\u001b[K     |█████████████▎                  | 409kB 9.6MB/s eta 0:00:01\r\u001b[K     |█████████████▋                  | 419kB 9.6MB/s eta 0:00:01\r\u001b[K     |██████████████                  | 430kB 9.6MB/s eta 0:00:01\r\u001b[K     |██████████████▎                 | 440kB 9.6MB/s eta 0:00:01\r\u001b[K     |██████████████▋                 | 450kB 9.6MB/s eta 0:00:01\r\u001b[K     |███████████████                 | 460kB 9.6MB/s eta 0:00:01\r\u001b[K     |███████████████▎                | 471kB 9.6MB/s eta 0:00:01\r\u001b[K     |███████████████▋                | 481kB 9.6MB/s eta 0:00:01\r\u001b[K     |████████████████                | 491kB 9.6MB/s eta 0:00:01\r\u001b[K     |████████████████▎               | 501kB 9.6MB/s eta 0:00:01\r\u001b[K     |████████████████▋               | 512kB 9.6MB/s eta 0:00:01\r\u001b[K     |█████████████████               | 522kB 9.6MB/s eta 0:00:01\r\u001b[K     |█████████████████▎              | 532kB 9.6MB/s eta 0:00:01\r\u001b[K     |█████████████████▋              | 542kB 9.6MB/s eta 0:00:01\r\u001b[K     |██████████████████              | 552kB 9.6MB/s eta 0:00:01\r\u001b[K     |██████████████████▎             | 563kB 9.6MB/s eta 0:00:01\r\u001b[K     |██████████████████▋             | 573kB 9.6MB/s eta 0:00:01\r\u001b[K     |███████████████████             | 583kB 9.6MB/s eta 0:00:01\r\u001b[K     |███████████████████▎            | 593kB 9.6MB/s eta 0:00:01\r\u001b[K     |███████████████████▋            | 604kB 9.6MB/s eta 0:00:01\r\u001b[K     |████████████████████            | 614kB 9.6MB/s eta 0:00:01\r\u001b[K     |████████████████████▎           | 624kB 9.6MB/s eta 0:00:01\r\u001b[K     |████████████████████▋           | 634kB 9.6MB/s eta 0:00:01\r\u001b[K     |█████████████████████           | 645kB 9.6MB/s eta 0:00:01\r\u001b[K     |█████████████████████▎          | 655kB 9.6MB/s eta 0:00:01\r\u001b[K     |█████████████████████▋          | 665kB 9.6MB/s eta 0:00:01\r\u001b[K     |██████████████████████          | 675kB 9.6MB/s eta 0:00:01\r\u001b[K     |██████████████████████▎         | 686kB 9.6MB/s eta 0:00:01\r\u001b[K     |██████████████████████▋         | 696kB 9.6MB/s eta 0:00:01\r\u001b[K     |███████████████████████         | 706kB 9.6MB/s eta 0:00:01\r\u001b[K     |███████████████████████▎        | 716kB 9.6MB/s eta 0:00:01\r\u001b[K     |███████████████████████▋        | 727kB 9.6MB/s eta 0:00:01\r\u001b[K     |████████████████████████        | 737kB 9.6MB/s eta 0:00:01\r\u001b[K     |████████████████████████▎       | 747kB 9.6MB/s eta 0:00:01\r\u001b[K     |████████████████████████▋       | 757kB 9.6MB/s eta 0:00:01\r\u001b[K     |████████████████████████▉       | 768kB 9.6MB/s eta 0:00:01\r\u001b[K     |█████████████████████████▏      | 778kB 9.6MB/s eta 0:00:01\r\u001b[K     |█████████████████████████▌      | 788kB 9.6MB/s eta 0:00:01\r\u001b[K     |█████████████████████████▉      | 798kB 9.6MB/s eta 0:00:01\r\u001b[K     |██████████████████████████▏     | 808kB 9.6MB/s eta 0:00:01\r\u001b[K     |██████████████████████████▌     | 819kB 9.6MB/s eta 0:00:01\r\u001b[K     |██████████████████████████▉     | 829kB 9.6MB/s eta 0:00:01\r\u001b[K     |███████████████████████████▏    | 839kB 9.6MB/s eta 0:00:01\r\u001b[K     |███████████████████████████▌    | 849kB 9.6MB/s eta 0:00:01\r\u001b[K     |███████████████████████████▉    | 860kB 9.6MB/s eta 0:00:01\r\u001b[K     |████████████████████████████▏   | 870kB 9.6MB/s eta 0:00:01\r\u001b[K     |████████████████████████████▌   | 880kB 9.6MB/s eta 0:00:01\r\u001b[K     |████████████████████████████▉   | 890kB 9.6MB/s eta 0:00:01\r\u001b[K     |█████████████████████████████▏  | 901kB 9.6MB/s eta 0:00:01\r\u001b[K     |█████████████████████████████▌  | 911kB 9.6MB/s eta 0:00:01\r\u001b[K     |█████████████████████████████▉  | 921kB 9.6MB/s eta 0:00:01\r\u001b[K     |██████████████████████████████▏ | 931kB 9.6MB/s eta 0:00:01\r\u001b[K     |██████████████████████████████▌ | 942kB 9.6MB/s eta 0:00:01\r\u001b[K     |██████████████████████████████▉ | 952kB 9.6MB/s eta 0:00:01\r\u001b[K     |███████████████████████████████▏| 962kB 9.6MB/s eta 0:00:01\r\u001b[K     |███████████████████████████████▌| 972kB 9.6MB/s eta 0:00:01\r\u001b[K     |███████████████████████████████▉| 983kB 9.6MB/s eta 0:00:01\r\u001b[K     |████████████████████████████████| 993kB 9.6MB/s \n",
            "\u001b[?25h  Building wheel for PyDrive (setup.py) ... \u001b[?25l\u001b[?25hdone\n"
          ],
          "name": "stdout"
        }
      ]
    },
    {
      "cell_type": "code",
      "metadata": {
        "id": "WPL4XRQF100u",
        "colab_type": "code",
        "colab": {}
      },
      "source": [
        "# Download a file based on its file ID.\n",
        "# A file ID looks like: laggVyWshwcyP6kEI-y_W3P8D26sz\n",
        "file_id = '19vFHpNAuEUZIbOYrlXDRWJPOoXLMv3bX'\n",
        "downloaded = drive.CreateFile({'id': file_id})\n",
        "\n",
        "download = drive.CreateFile({'id': file_id})\n",
        "download.GetContentFile('DOWNLOAD.tar')\n",
        "\n",
        "# print('Downloaded content \"{}\"'.format(downloaded.GetContentString()))"
      ],
      "execution_count": 0,
      "outputs": []
    },
    {
      "cell_type": "code",
      "metadata": {
        "id": "YwEYyDE-5TIs",
        "colab_type": "code",
        "outputId": "315603d1-1164-4a95-c55d-d818de5e0f27",
        "colab": {
          "base_uri": "https://localhost:8080/",
          "height": 343
        }
      },
      "source": [
        "!unzip DOWNLOAD.tar"
      ],
      "execution_count": 0,
      "outputs": [
        {
          "output_type": "stream",
          "text": [
            "Archive:  DOWNLOAD.tar\n",
            "replace Deep_learning_for_text_classification/embeddings/glove.6B.50d.txt? [y]es, [n]o, [A]ll, [N]one, [r]ename: y\n",
            "  inflating: Deep_learning_for_text_classification/embeddings/glove.6B.50d.txt  \n",
            "\n",
            "\n",
            "replace __MACOSX/Deep_learning_for_text_classification/embeddings/._glove.6B.50d.txt? [y]es, [n]o, [A]ll, [N]one, [r]ename: error:  invalid response [{ENTER}]\n",
            "replace __MACOSX/Deep_learning_for_text_classification/embeddings/._glove.6B.50d.txt? [y]es, [n]o, [A]ll, [N]one, [r]ename: error:  invalid response [{ENTER}]\n",
            "replace __MACOSX/Deep_learning_for_text_classification/embeddings/._glove.6B.50d.txt? [y]es, [n]o, [A]ll, [N]one, [r]ename: y\n",
            "  inflating: __MACOSX/Deep_learning_for_text_classification/embeddings/._glove.6B.50d.txt  \n",
            "replace Deep_learning_for_text_classification/.DS_Store? [y]es, [n]o, [A]ll, [N]one, [r]ename: y\n",
            "  inflating: Deep_learning_for_text_classification/.DS_Store  \n",
            "replace __MACOSX/Deep_learning_for_text_classification/._.DS_Store? [y]es, [n]o, [A]ll, [N]one, [r]ename: A\n",
            "  inflating: __MACOSX/Deep_learning_for_text_classification/._.DS_Store  \n",
            "  inflating: Deep_learning_for_text_classification/Data/imdb_master.csv  \n",
            "  inflating: __MACOSX/Deep_learning_for_text_classification/Data/._imdb_master.csv  \n",
            "  inflating: Deep_learning_for_text_classification/Data/.DS_Store  \n",
            "  inflating: __MACOSX/Deep_learning_for_text_classification/Data/._.DS_Store  \n",
            "  inflating: Deep_learning_for_text_classification/Data/data.txt  \n"
          ],
          "name": "stdout"
        }
      ]
    },
    {
      "cell_type": "code",
      "metadata": {
        "id": "NQuA9JLj4kTN",
        "colab_type": "code",
        "colab": {}
      },
      "source": [
        "import os\n",
        "from gensim import models\n",
        "import numpy as np\n",
        "import pandas as pd\n",
        "from tqdm import tqdm\n",
        "tqdm.pandas()\n",
        "\n",
        "import matplotlib.pyplot as plt\n",
        "%matplotlib inline"
      ],
      "execution_count": 0,
      "outputs": []
    },
    {
      "cell_type": "code",
      "metadata": {
        "id": "HkZLBJ-s2ZIy",
        "colab_type": "code",
        "outputId": "71dbaf23-17c3-47d2-e973-a5c2af15b4df",
        "colab": {
          "base_uri": "https://localhost:8080/",
          "height": 34
        }
      },
      "source": [
        "embeddings_index = {}\n",
        "f = open('../content/Deep_learning_for_text_classification/embeddings/glove.6B.50d.txt')\n",
        "for line in f:\n",
        "\n",
        "    values = line.split()\n",
        "    word = values[0]\n",
        "    coefs = np.asarray(values[1:], dtype='float32')\n",
        "    embeddings_index[word] = coefs\n",
        "f.close()\n",
        "\n",
        "print('Found %s word vectors.' % len(embeddings_index))"
      ],
      "execution_count": 0,
      "outputs": [
        {
          "output_type": "stream",
          "text": [
            "Found 400000 word vectors.\n"
          ],
          "name": "stdout"
        }
      ]
    },
    {
      "cell_type": "code",
      "metadata": {
        "id": "thfvJ8TaFV_i",
        "colab_type": "code",
        "outputId": "d8f1b5a9-babd-4855-ae32-1f5b018bae83",
        "colab": {
          "base_uri": "https://localhost:8080/",
          "height": 204
        }
      },
      "source": [
        "embeddings_index[\"why\"]"
      ],
      "execution_count": 0,
      "outputs": [
        {
          "output_type": "execute_result",
          "data": {
            "text/plain": [
              "array([ 0.32386  ,  0.011154 ,  0.23443  , -0.18039  ,  0.6233   ,\n",
              "       -0.059467 , -0.62369  ,  0.12782  , -0.40932  ,  0.083849 ,\n",
              "       -0.19215  ,  0.57834  , -0.49637  , -0.048521 ,  1.099    ,\n",
              "        0.6298   ,  0.26122  , -0.11049  ,  0.16728  , -0.71227  ,\n",
              "       -0.371    ,  0.51635  ,  0.54567  ,  0.27623  ,  0.82096  ,\n",
              "       -2.1861   , -1.0027   ,  0.11441  ,  0.53145  , -0.86653  ,\n",
              "        2.5888   ,  0.37458  , -0.51935  , -0.68734  , -0.14537  ,\n",
              "       -0.53177  , -0.065899 ,  0.0077695,  0.31162  , -0.17694  ,\n",
              "       -0.36669  ,  0.17919  ,  0.21591  ,  0.61326  ,  0.41495  ,\n",
              "        0.17295  , -0.19359  ,  0.26349  , -0.19398  ,  0.58678  ],\n",
              "      dtype=float32)"
            ]
          },
          "metadata": {
            "tags": []
          },
          "execution_count": 12
        }
      ]
    },
    {
      "cell_type": "code",
      "metadata": {
        "id": "PC0b70H4GLTs",
        "colab_type": "code",
        "colab": {}
      },
      "source": [
        "from gensim.test.utils import datapath, get_tmpfile\n",
        "from gensim.models import KeyedVectors\n",
        "from gensim.scripts.glove2word2vec import glove2word2vec\n",
        "import gensim"
      ],
      "execution_count": 0,
      "outputs": []
    },
    {
      "cell_type": "code",
      "metadata": {
        "id": "Lk6PaePYKOmg",
        "colab_type": "code",
        "outputId": "9ad1e596-a298-4b4d-ef12-e7f26f01cf4d",
        "colab": {
          "base_uri": "https://localhost:8080/",
          "height": 71
        }
      },
      "source": [
        "model_file = \"../content/Deep_learning_for_text_classification/embeddings/glove.6B.50d.txt\"\n",
        "_ = glove2word2vec(glove_input_file=model_file, word2vec_output_file=\"../content/gensim_glove_vectors.txt\")\n",
        "\n",
        "\n",
        "from gensim.models.keyedvectors import KeyedVectors\n",
        "glove_model = KeyedVectors.load_word2vec_format(\"../content/gensim_glove_vectors.txt\", binary=False)"
      ],
      "execution_count": 0,
      "outputs": [
        {
          "output_type": "stream",
          "text": [
            "/usr/local/lib/python3.6/dist-packages/smart_open/smart_open_lib.py:398: UserWarning: This function is deprecated, use smart_open.open instead. See the migration notes for details: https://github.com/RaRe-Technologies/smart_open/blob/master/README.rst#migrating-to-the-new-open-function\n",
            "  'See the migration notes for details: %s' % _MIGRATION_NOTES_URL\n"
          ],
          "name": "stderr"
        }
      ]
    },
    {
      "cell_type": "code",
      "metadata": {
        "id": "BotgHf7mKOpB",
        "colab_type": "code",
        "outputId": "02ce855d-04b9-48b5-d50c-61e4e8d504bd",
        "colab": {
          "base_uri": "https://localhost:8080/",
          "height": 241
        }
      },
      "source": [
        "glove_model.most_similar(\"red\")"
      ],
      "execution_count": 0,
      "outputs": [
        {
          "output_type": "stream",
          "text": [
            "/usr/local/lib/python3.6/dist-packages/gensim/matutils.py:737: FutureWarning: Conversion of the second argument of issubdtype from `int` to `np.signedinteger` is deprecated. In future, it will be treated as `np.int64 == np.dtype(int).type`.\n",
            "  if np.issubdtype(vec.dtype, np.int):\n"
          ],
          "name": "stderr"
        },
        {
          "output_type": "execute_result",
          "data": {
            "text/plain": [
              "[('yellow', 0.8995459079742432),\n",
              " ('blue', 0.8901658654212952),\n",
              " ('green', 0.8561931848526001),\n",
              " ('black', 0.8400583863258362),\n",
              " ('purple', 0.8323201537132263),\n",
              " ('white', 0.8149363398551941),\n",
              " ('pink', 0.81486576795578),\n",
              " ('orange', 0.8042871952056885),\n",
              " ('golden', 0.7416437864303589),\n",
              " ('colored', 0.7381109595298767)]"
            ]
          },
          "metadata": {
            "tags": []
          },
          "execution_count": 31
        }
      ]
    },
    {
      "cell_type": "code",
      "metadata": {
        "id": "9RChr0V62RVA",
        "colab_type": "code",
        "outputId": "e6d33b5c-0e2a-4c73-f92a-81c604b0c26f",
        "colab": {
          "base_uri": "https://localhost:8080/",
          "height": 34
        }
      },
      "source": [
        "from numpy import zeros\n",
        "import keras\n",
        "import tensorflow as tf\n",
        "from keras.preprocessing.text import Tokenizer\n",
        "from keras.preprocessing.sequence import pad_sequences\n",
        "from keras.models import Sequential\n",
        "from keras.callbacks import EarlyStopping\n",
        "from keras.layers.embeddings import Embedding"
      ],
      "execution_count": 0,
      "outputs": [
        {
          "output_type": "stream",
          "text": [
            "Using TensorFlow backend.\n"
          ],
          "name": "stderr"
        }
      ]
    },
    {
      "cell_type": "code",
      "metadata": {
        "id": "6CHtiMm84Y3l",
        "colab_type": "code",
        "colab": {}
      },
      "source": [
        "# Reading data\n",
        "train_df = pd.read_csv('../content/Deep_learning_for_text_classification/Data/imdb_master.csv', encoding = \"ISO-8859-1\")"
      ],
      "execution_count": 0,
      "outputs": []
    },
    {
      "cell_type": "code",
      "metadata": {
        "id": "j3XjkBlEMyDb",
        "colab_type": "code",
        "outputId": "aafa69cc-ea63-4a24-b9b3-f1348c20b537",
        "colab": {
          "base_uri": "https://localhost:8080/",
          "height": 204
        }
      },
      "source": [
        "train_df.head()"
      ],
      "execution_count": 0,
      "outputs": [
        {
          "output_type": "execute_result",
          "data": {
            "text/html": [
              "<div>\n",
              "<style scoped>\n",
              "    .dataframe tbody tr th:only-of-type {\n",
              "        vertical-align: middle;\n",
              "    }\n",
              "\n",
              "    .dataframe tbody tr th {\n",
              "        vertical-align: top;\n",
              "    }\n",
              "\n",
              "    .dataframe thead th {\n",
              "        text-align: right;\n",
              "    }\n",
              "</style>\n",
              "<table border=\"1\" class=\"dataframe\">\n",
              "  <thead>\n",
              "    <tr style=\"text-align: right;\">\n",
              "      <th></th>\n",
              "      <th>Unnamed: 0</th>\n",
              "      <th>type</th>\n",
              "      <th>review</th>\n",
              "      <th>label</th>\n",
              "      <th>file</th>\n",
              "    </tr>\n",
              "  </thead>\n",
              "  <tbody>\n",
              "    <tr>\n",
              "      <th>0</th>\n",
              "      <td>0</td>\n",
              "      <td>test</td>\n",
              "      <td>Once again Mr. Costner has dragged out a movie...</td>\n",
              "      <td>neg</td>\n",
              "      <td>0_2.txt</td>\n",
              "    </tr>\n",
              "    <tr>\n",
              "      <th>1</th>\n",
              "      <td>1</td>\n",
              "      <td>test</td>\n",
              "      <td>This is an example of why the majority of acti...</td>\n",
              "      <td>neg</td>\n",
              "      <td>10000_4.txt</td>\n",
              "    </tr>\n",
              "    <tr>\n",
              "      <th>2</th>\n",
              "      <td>2</td>\n",
              "      <td>test</td>\n",
              "      <td>First of all I hate those moronic rappers, who...</td>\n",
              "      <td>neg</td>\n",
              "      <td>10001_1.txt</td>\n",
              "    </tr>\n",
              "    <tr>\n",
              "      <th>3</th>\n",
              "      <td>3</td>\n",
              "      <td>test</td>\n",
              "      <td>Not even the Beatles could write songs everyon...</td>\n",
              "      <td>neg</td>\n",
              "      <td>10002_3.txt</td>\n",
              "    </tr>\n",
              "    <tr>\n",
              "      <th>4</th>\n",
              "      <td>4</td>\n",
              "      <td>test</td>\n",
              "      <td>Brass pictures (movies is not a fitting word f...</td>\n",
              "      <td>neg</td>\n",
              "      <td>10003_3.txt</td>\n",
              "    </tr>\n",
              "  </tbody>\n",
              "</table>\n",
              "</div>"
            ],
            "text/plain": [
              "   Unnamed: 0  type  ... label         file\n",
              "0           0  test  ...   neg      0_2.txt\n",
              "1           1  test  ...   neg  10000_4.txt\n",
              "2           2  test  ...   neg  10001_1.txt\n",
              "3           3  test  ...   neg  10002_3.txt\n",
              "4           4  test  ...   neg  10003_3.txt\n",
              "\n",
              "[5 rows x 5 columns]"
            ]
          },
          "metadata": {
            "tags": []
          },
          "execution_count": 46
        }
      ]
    },
    {
      "cell_type": "code",
      "metadata": {
        "id": "EqCIBH0PMyFx",
        "colab_type": "code",
        "colab": {}
      },
      "source": [
        "train_df = train_df.drop([\"Unnamed: 0\",\"file\", \"type\"], axis=1)"
      ],
      "execution_count": 0,
      "outputs": []
    },
    {
      "cell_type": "code",
      "metadata": {
        "id": "iwUIZvAOMyII",
        "colab_type": "code",
        "outputId": "a1c1b79d-64b6-40b3-a003-9d8ed017aab8",
        "colab": {
          "base_uri": "https://localhost:8080/",
          "height": 85
        }
      },
      "source": [
        "train_df.label.value_counts()"
      ],
      "execution_count": 0,
      "outputs": [
        {
          "output_type": "execute_result",
          "data": {
            "text/plain": [
              "unsup    50000\n",
              "neg      25000\n",
              "pos      25000\n",
              "Name: label, dtype: int64"
            ]
          },
          "metadata": {
            "tags": []
          },
          "execution_count": 48
        }
      ]
    },
    {
      "cell_type": "code",
      "metadata": {
        "id": "PZsULuVkM3w7",
        "colab_type": "code",
        "colab": {}
      },
      "source": [
        "train_df = train_df[train_df.label != 'unsup']\n",
        "train_df[\"label\"] = train_df[\"label\"].map({\"pos\":1,\"neg\":0})"
      ],
      "execution_count": 0,
      "outputs": []
    },
    {
      "cell_type": "code",
      "metadata": {
        "id": "XjhHYPfpM3zi",
        "colab_type": "code",
        "outputId": "233129f0-3505-496e-f53a-429e21c9dc87",
        "colab": {
          "base_uri": "https://localhost:8080/",
          "height": 204
        }
      },
      "source": [
        "train_df.head()"
      ],
      "execution_count": 0,
      "outputs": [
        {
          "output_type": "execute_result",
          "data": {
            "text/html": [
              "<div>\n",
              "<style scoped>\n",
              "    .dataframe tbody tr th:only-of-type {\n",
              "        vertical-align: middle;\n",
              "    }\n",
              "\n",
              "    .dataframe tbody tr th {\n",
              "        vertical-align: top;\n",
              "    }\n",
              "\n",
              "    .dataframe thead th {\n",
              "        text-align: right;\n",
              "    }\n",
              "</style>\n",
              "<table border=\"1\" class=\"dataframe\">\n",
              "  <thead>\n",
              "    <tr style=\"text-align: right;\">\n",
              "      <th></th>\n",
              "      <th>review</th>\n",
              "      <th>label</th>\n",
              "    </tr>\n",
              "  </thead>\n",
              "  <tbody>\n",
              "    <tr>\n",
              "      <th>0</th>\n",
              "      <td>Once again Mr. Costner has dragged out a movie...</td>\n",
              "      <td>0</td>\n",
              "    </tr>\n",
              "    <tr>\n",
              "      <th>1</th>\n",
              "      <td>This is an example of why the majority of acti...</td>\n",
              "      <td>0</td>\n",
              "    </tr>\n",
              "    <tr>\n",
              "      <th>2</th>\n",
              "      <td>First of all I hate those moronic rappers, who...</td>\n",
              "      <td>0</td>\n",
              "    </tr>\n",
              "    <tr>\n",
              "      <th>3</th>\n",
              "      <td>Not even the Beatles could write songs everyon...</td>\n",
              "      <td>0</td>\n",
              "    </tr>\n",
              "    <tr>\n",
              "      <th>4</th>\n",
              "      <td>Brass pictures (movies is not a fitting word f...</td>\n",
              "      <td>0</td>\n",
              "    </tr>\n",
              "  </tbody>\n",
              "</table>\n",
              "</div>"
            ],
            "text/plain": [
              "                                              review  label\n",
              "0  Once again Mr. Costner has dragged out a movie...      0\n",
              "1  This is an example of why the majority of acti...      0\n",
              "2  First of all I hate those moronic rappers, who...      0\n",
              "3  Not even the Beatles could write songs everyon...      0\n",
              "4  Brass pictures (movies is not a fitting word f...      0"
            ]
          },
          "metadata": {
            "tags": []
          },
          "execution_count": 50
        }
      ]
    },
    {
      "cell_type": "code",
      "metadata": {
        "id": "mUVhgZFC5mK4",
        "colab_type": "code",
        "colab": {}
      },
      "source": [
        ""
      ],
      "execution_count": 0,
      "outputs": []
    },
    {
      "cell_type": "code",
      "metadata": {
        "id": "2fHjG2Xr5pcV",
        "colab_type": "code",
        "colab": {}
      },
      "source": [
        "# Cleaning and Pre Processing text\n",
        "import re\n",
        "\n",
        "def clean_numbers(text):\n",
        "    text = re.sub('[0-9]{5,}', '#####', text)\n",
        "    text = re.sub('[0-9]{4}', '####', text)\n",
        "    text = re.sub('[0-9]{3}', '###', text)\n",
        "    text = re.sub('[0-9]{2}', '##', text)\n",
        "    return text\n",
        "\n",
        "def clean_text(text):\n",
        "    text = clean_numbers(text)\n",
        "    text = str(text)\n",
        "\n",
        "    for punct in \"/-'\":\n",
        "        text = text.replace(punct, ' ')\n",
        "    for punct in '&':\n",
        "        text = text.replace(punct, f' {punct} ')\n",
        "    for punct in '?!.,\"$%\\'()*+-/:;<=>@[\\\\]^_`{|}~' + '“”’':\n",
        "        text = text.replace(punct, '')\n",
        "\n",
        "    text = text.lower()\n",
        "    return text\n"
      ],
      "execution_count": 0,
      "outputs": []
    },
    {
      "cell_type": "code",
      "metadata": {
        "id": "kGhV1dgx5vSI",
        "colab_type": "code",
        "outputId": "9dac952c-b947-41d4-b0bc-b81317aefc8a",
        "colab": {
          "base_uri": "https://localhost:8080/",
          "height": 51
        }
      },
      "source": [
        "# Clean text in dataFrame\n",
        "train_df[\"processed_data\"] = train_df[\"review\"].progress_apply(lambda x: clean_text(x))\n",
        "train_df[\"length\"] = train_df[\"processed_data\"].progress_apply(lambda x: len(x.split()))"
      ],
      "execution_count": 0,
      "outputs": [
        {
          "output_type": "stream",
          "text": [
            "100%|██████████| 50000/50000 [00:07<00:00, 6951.37it/s]\n",
            "100%|██████████| 50000/50000 [00:00<00:00, 76458.42it/s]\n"
          ],
          "name": "stderr"
        }
      ]
    },
    {
      "cell_type": "code",
      "metadata": {
        "id": "qGMnsIo4Naue",
        "colab_type": "code",
        "outputId": "099748bc-ff1f-49e8-8f79-961baae12749",
        "colab": {
          "base_uri": "https://localhost:8080/",
          "height": 204
        }
      },
      "source": [
        "train_df.head(5)"
      ],
      "execution_count": 0,
      "outputs": [
        {
          "output_type": "execute_result",
          "data": {
            "text/html": [
              "<div>\n",
              "<style scoped>\n",
              "    .dataframe tbody tr th:only-of-type {\n",
              "        vertical-align: middle;\n",
              "    }\n",
              "\n",
              "    .dataframe tbody tr th {\n",
              "        vertical-align: top;\n",
              "    }\n",
              "\n",
              "    .dataframe thead th {\n",
              "        text-align: right;\n",
              "    }\n",
              "</style>\n",
              "<table border=\"1\" class=\"dataframe\">\n",
              "  <thead>\n",
              "    <tr style=\"text-align: right;\">\n",
              "      <th></th>\n",
              "      <th>review</th>\n",
              "      <th>label</th>\n",
              "      <th>processed_data</th>\n",
              "      <th>length</th>\n",
              "    </tr>\n",
              "  </thead>\n",
              "  <tbody>\n",
              "    <tr>\n",
              "      <th>0</th>\n",
              "      <td>Once again Mr. Costner has dragged out a movie...</td>\n",
              "      <td>0</td>\n",
              "      <td>once again mr costner has dragged out a movie ...</td>\n",
              "      <td>171</td>\n",
              "    </tr>\n",
              "    <tr>\n",
              "      <th>1</th>\n",
              "      <td>This is an example of why the majority of acti...</td>\n",
              "      <td>0</td>\n",
              "      <td>this is an example of why the majority of acti...</td>\n",
              "      <td>244</td>\n",
              "    </tr>\n",
              "    <tr>\n",
              "      <th>2</th>\n",
              "      <td>First of all I hate those moronic rappers, who...</td>\n",
              "      <td>0</td>\n",
              "      <td>first of all i hate those moronic rappers who ...</td>\n",
              "      <td>232</td>\n",
              "    </tr>\n",
              "    <tr>\n",
              "      <th>3</th>\n",
              "      <td>Not even the Beatles could write songs everyon...</td>\n",
              "      <td>0</td>\n",
              "      <td>not even the beatles could write songs everyon...</td>\n",
              "      <td>321</td>\n",
              "    </tr>\n",
              "    <tr>\n",
              "      <th>4</th>\n",
              "      <td>Brass pictures (movies is not a fitting word f...</td>\n",
              "      <td>0</td>\n",
              "      <td>brass pictures movies is not a fitting word fo...</td>\n",
              "      <td>241</td>\n",
              "    </tr>\n",
              "  </tbody>\n",
              "</table>\n",
              "</div>"
            ],
            "text/plain": [
              "                                              review  ...  length\n",
              "0  Once again Mr. Costner has dragged out a movie...  ...     171\n",
              "1  This is an example of why the majority of acti...  ...     244\n",
              "2  First of all I hate those moronic rappers, who...  ...     232\n",
              "3  Not even the Beatles could write songs everyon...  ...     321\n",
              "4  Brass pictures (movies is not a fitting word f...  ...     241\n",
              "\n",
              "[5 rows x 4 columns]"
            ]
          },
          "metadata": {
            "tags": []
          },
          "execution_count": 53
        }
      ]
    },
    {
      "cell_type": "code",
      "metadata": {
        "id": "PidcmhK0Nswa",
        "colab_type": "code",
        "outputId": "ef8ed71d-ee69-439d-aa56-dfde6ab0feff",
        "colab": {
          "base_uri": "https://localhost:8080/",
          "height": 315
        }
      },
      "source": [
        "# The average length of sentences\n",
        "train_df[\"length\"].mean()\n",
        "# Check the histogram \n",
        "train_df.hist(\"length\")"
      ],
      "execution_count": 0,
      "outputs": [
        {
          "output_type": "execute_result",
          "data": {
            "text/plain": [
              "array([[<matplotlib.axes._subplots.AxesSubplot object at 0x7f9c3fb43fd0>]],\n",
              "      dtype=object)"
            ]
          },
          "metadata": {
            "tags": []
          },
          "execution_count": 54
        },
        {
          "output_type": "display_data",
          "data": {
            "image/png": "[encoded data removed]",
            "text/plain": [
              "<Figure size 432x288 with 1 Axes>"
            ]
          },
          "metadata": {
            "tags": []
          }
        }
      ]
    },
    {
      "cell_type": "code",
      "metadata": {
        "id": "wrUnkrtuNsy_",
        "colab_type": "code",
        "colab": {}
      },
      "source": [
        ""
      ],
      "execution_count": 0,
      "outputs": []
    },
    {
      "cell_type": "code",
      "metadata": {
        "id": "6LcKcDdk5y9p",
        "colab_type": "code",
        "colab": {}
      },
      "source": [
        "\n",
        "docs = train_df[\"processed_data\"].values\n",
        "labels = train_df[\"label\"].values"
      ],
      "execution_count": 0,
      "outputs": []
    },
    {
      "cell_type": "code",
      "metadata": {
        "id": "L032Yqyc5089",
        "colab_type": "code",
        "outputId": "0e316236-aa94-4652-b734-e9b232cde757",
        "colab": {
          "base_uri": "https://localhost:8080/",
          "height": 34
        }
      },
      "source": [
        "# Import gc, clearing some memory in ram\n",
        "import gc\n",
        "del train_df\n",
        "gc.collect()"
      ],
      "execution_count": 0,
      "outputs": [
        {
          "output_type": "execute_result",
          "data": {
            "text/plain": [
              "0"
            ]
          },
          "metadata": {
            "tags": []
          },
          "execution_count": 56
        }
      ]
    },
    {
      "cell_type": "code",
      "metadata": {
        "id": "O7s6NpuU52wG",
        "colab_type": "code",
        "colab": {}
      },
      "source": [
        "# prepare tokenizer\n",
        "t = Tokenizer()\n",
        "t.fit_on_texts(docs)\n",
        "vocab_size = len(t.word_index) + 1"
      ],
      "execution_count": 0,
      "outputs": []
    },
    {
      "cell_type": "code",
      "metadata": {
        "id": "qPpBEUn458Wa",
        "colab_type": "code",
        "colab": {}
      },
      "source": [
        "# integer encode the documents\n",
        "encoded_docs = t.texts_to_sequences(docs)"
      ],
      "execution_count": 0,
      "outputs": []
    },
    {
      "cell_type": "code",
      "metadata": {
        "id": "l7QVTC5xN8Uw",
        "colab_type": "code",
        "outputId": "6e817314-7a18-4946-9c8e-54b44b025f7c",
        "colab": {
          "base_uri": "https://localhost:8080/",
          "height": 71
        }
      },
      "source": [
        "print(docs[0])\n",
        "print(encoded_docs[0])"
      ],
      "execution_count": 0,
      "outputs": [
        {
          "output_type": "stream",
          "text": [
            "once again mr costner has dragged out a movie for far longer than necessary aside from the terrific sea rescue sequences of which there are very few i just did not care about any of the characters most of us have ghosts in the closet and costner s character are realized early on and then forgotten until much later by which time i did not care the character we should really care about is a very cocky overconfident ashton kutcher the problem is he comes off as kid who thinks he s better than anyone else around him and shows no signs of a cluttered closet his only obstacle appears to be winning over costner finally when we are well past the half way point of this stinker costner tells us all about kutcher s ghosts we are told why kutcher is driven to be the best with no prior inkling or foreshadowing no magic here it was all i could do to keep from turning it off an hour in\n",
            "[283, 176, 451, 7110, 47, 3382, 45, 3, 18, 16, 223, 1142, 73, 1724, 1171, 38, 1, 1311, 1617, 2142, 851, 4, 63, 40, 26, 54, 173, 9, 42, 118, 24, 460, 44, 98, 4, 1, 103, 89, 4, 175, 28, 2996, 8, 1, 4312, 2, 7110, 12, 105, 26, 1654, 397, 22, 2, 94, 1529, 364, 74, 312, 34, 63, 61, 9, 118, 24, 460, 1, 105, 70, 143, 64, 460, 44, 6, 3, 54, 9636, 35366, 9890, 9335, 1, 450, 6, 25, 268, 124, 15, 515, 36, 1236, 25, 12, 128, 73, 245, 328, 185, 90, 2, 272, 57, 3771, 4, 3, 17884, 4312, 27, 62, 13304, 723, 5, 29, 1691, 122, 7110, 418, 52, 70, 26, 72, 511, 1, 302, 97, 221, 4, 10, 4154, 7110, 706, 175, 32, 44, 9335, 12, 2996, 70, 26, 558, 135, 9335, 6, 2075, 5, 29, 1, 117, 17, 57, 2516, 15715, 41, 11941, 57, 1329, 134, 7, 14, 32, 9, 95, 80, 5, 387, 38, 1572, 7, 124, 35, 521, 8]\n"
          ],
          "name": "stdout"
        }
      ]
    },
    {
      "cell_type": "code",
      "metadata": {
        "id": "s1iYNURo5-Nj",
        "colab_type": "code",
        "colab": {}
      },
      "source": [
        "# pad documents to a max length of max words\n",
        "max_length = 150\n",
        "padded_docs = pad_sequences(encoded_docs, maxlen=max_length, padding='post')\n"
      ],
      "execution_count": 0,
      "outputs": []
    },
    {
      "cell_type": "code",
      "metadata": {
        "id": "BI14VqVp5__C",
        "colab_type": "code",
        "colab": {}
      },
      "source": [
        "# create a weight matrix for words in training docs\n",
        "embedding_matrix = zeros((vocab_size, 50))\n",
        "for word, i in t.word_index.items():\n",
        "    embedding_vector = embeddings_index.get(word)\n",
        "    if embedding_vector is not None:\n",
        "        embedding_matrix[i] = embedding_vector"
      ],
      "execution_count": 0,
      "outputs": []
    },
    {
      "cell_type": "code",
      "metadata": {
        "id": "CETOtg9H6B_F",
        "colab_type": "code",
        "colab": {}
      },
      "source": [
        "# Create Train/Test data\n",
        "from sklearn.model_selection import train_test_split\n",
        "\n",
        "X_train, X_test, y_train, y_test = train_test_split(\n",
        "    padded_docs, labels, test_size=0.2, random_state=42)"
      ],
      "execution_count": 0,
      "outputs": []
    },
    {
      "cell_type": "code",
      "metadata": {
        "id": "HlTjZZbi6YlK",
        "colab_type": "code",
        "outputId": "2146161d-38dc-4010-9b0d-f20797c3cebe",
        "colab": {
          "base_uri": "https://localhost:8080/",
          "height": 513
        }
      },
      "source": [
        "# DNN with embeddings\n",
        "\n",
        "vocab_size = vocab_size\n",
        "\n",
        "model = keras.Sequential()\n",
        "model.add(keras.layers.Embedding(vocab_size, 50, weights=[embedding_matrix], input_length=max_length, trainable=True))\n",
        "model.add(keras.layers.GlobalAveragePooling1D())\n",
        "model.add(keras.layers.Dense(64, activation=tf.nn.relu))\n",
        "model.add(keras.layers.Dense(16, activation=tf.nn.relu) )\n",
        "model.add(keras.layers.Dense(1, activation=tf.nn.sigmoid))\n",
        "model.summary()"
      ],
      "execution_count": 0,
      "outputs": [
        {
          "output_type": "stream",
          "text": [
            "WARNING: Logging before flag parsing goes to stderr.\n",
            "W0725 13:00:56.062639 140310017009536 deprecation_wrapper.py:119] From /usr/local/lib/python3.6/dist-packages/keras/backend/tensorflow_backend.py:74: The name tf.get_default_graph is deprecated. Please use tf.compat.v1.get_default_graph instead.\n",
            "\n",
            "W0725 13:00:56.089936 140310017009536 deprecation_wrapper.py:119] From /usr/local/lib/python3.6/dist-packages/keras/backend/tensorflow_backend.py:517: The name tf.placeholder is deprecated. Please use tf.compat.v1.placeholder instead.\n",
            "\n",
            "W0725 13:00:56.094195 140310017009536 deprecation_wrapper.py:119] From /usr/local/lib/python3.6/dist-packages/keras/backend/tensorflow_backend.py:4138: The name tf.random_uniform is deprecated. Please use tf.random.uniform instead.\n",
            "\n",
            "W0725 13:00:56.105782 140310017009536 deprecation_wrapper.py:119] From /usr/local/lib/python3.6/dist-packages/keras/backend/tensorflow_backend.py:174: The name tf.get_default_session is deprecated. Please use tf.compat.v1.get_default_session instead.\n",
            "\n",
            "W0725 13:00:56.106813 140310017009536 deprecation_wrapper.py:119] From /usr/local/lib/python3.6/dist-packages/keras/backend/tensorflow_backend.py:181: The name tf.ConfigProto is deprecated. Please use tf.compat.v1.ConfigProto instead.\n",
            "\n"
          ],
          "name": "stderr"
        },
        {
          "output_type": "stream",
          "text": [
            "_________________________________________________________________\n",
            "Layer (type)                 Output Shape              Param #   \n",
            "=================================================================\n",
            "embedding_1 (Embedding)      (None, 150, 50)           7018250   \n",
            "_________________________________________________________________\n",
            "global_average_pooling1d_1 ( (None, 50)                0         \n",
            "_________________________________________________________________\n",
            "dense_1 (Dense)              (None, 64)                3264      \n",
            "_________________________________________________________________\n",
            "dense_2 (Dense)              (None, 16)                1040      \n",
            "_________________________________________________________________\n",
            "dense_3 (Dense)              (None, 1)                 17        \n",
            "=================================================================\n",
            "Total params: 7,022,571\n",
            "Trainable params: 7,022,571\n",
            "Non-trainable params: 0\n",
            "_________________________________________________________________\n"
          ],
          "name": "stdout"
        }
      ]
    },
    {
      "cell_type": "code",
      "metadata": {
        "id": "HJiVrEZgOF2p",
        "colab_type": "code",
        "outputId": "7184e7d3-fed7-4d06-90e2-7a9f162abcf5",
        "colab": {
          "base_uri": "https://localhost:8080/",
          "height": 122
        }
      },
      "source": [
        "model.compile(optimizer='adam', loss='binary_crossentropy', metrics=['acc'])"
      ],
      "execution_count": 0,
      "outputs": [
        {
          "output_type": "stream",
          "text": [
            "W0725 13:01:08.977191 140310017009536 deprecation_wrapper.py:119] From /usr/local/lib/python3.6/dist-packages/keras/optimizers.py:790: The name tf.train.Optimizer is deprecated. Please use tf.compat.v1.train.Optimizer instead.\n",
            "\n",
            "W0725 13:01:09.003780 140310017009536 deprecation.py:323] From /usr/local/lib/python3.6/dist-packages/tensorflow/python/ops/nn_impl.py:180: add_dispatch_support.<locals>.wrapper (from tensorflow.python.ops.array_ops) is deprecated and will be removed in a future version.\n",
            "Instructions for updating:\n",
            "Use tf.where in 2.0, which has the same broadcast rule as np.where\n"
          ],
          "name": "stderr"
        }
      ]
    },
    {
      "cell_type": "code",
      "metadata": {
        "id": "S7j_9yjKOJAq",
        "colab_type": "code",
        "colab": {}
      },
      "source": [
        "reduce_err = EarlyStopping(monitor='val_loss', \n",
        "                           min_delta=0,patience=0,\n",
        "                           verbose=0, mode='auto')\n"
      ],
      "execution_count": 0,
      "outputs": []
    },
    {
      "cell_type": "code",
      "metadata": {
        "id": "rdSqdV4KOLHG",
        "colab_type": "code",
        "outputId": "6027fdd8-5d5a-41f6-aed9-2b1a2389e0d2",
        "colab": {
          "base_uri": "https://localhost:8080/",
          "height": 272
        }
      },
      "source": [
        "history = model.fit(X_train, y_train, validation_data=(X_test, y_test), \n",
        "          epochs=15, batch_size=512, callbacks=[reduce_err])"
      ],
      "execution_count": 0,
      "outputs": [
        {
          "output_type": "stream",
          "text": [
            "Train on 40000 samples, validate on 10000 samples\n",
            "Epoch 1/15\n",
            "40000/40000 [==============================] - 2s 54us/step - loss: 0.6529 - acc: 0.6406 - val_loss: 0.5864 - val_acc: 0.7085\n",
            "Epoch 2/15\n",
            "40000/40000 [==============================] - 1s 19us/step - loss: 0.4979 - acc: 0.7708 - val_loss: 0.4249 - val_acc: 0.8144\n",
            "Epoch 3/15\n",
            "40000/40000 [==============================] - 1s 19us/step - loss: 0.3606 - acc: 0.8475 - val_loss: 0.3527 - val_acc: 0.8487\n",
            "Epoch 4/15\n",
            "40000/40000 [==============================] - 1s 18us/step - loss: 0.2868 - acc: 0.8825 - val_loss: 0.3224 - val_acc: 0.8653\n",
            "Epoch 5/15\n",
            "40000/40000 [==============================] - 1s 18us/step - loss: 0.2375 - acc: 0.9044 - val_loss: 0.3052 - val_acc: 0.8736\n",
            "Epoch 6/15\n",
            "40000/40000 [==============================] - 1s 18us/step - loss: 0.2004 - acc: 0.9223 - val_loss: 0.2995 - val_acc: 0.8797\n",
            "Epoch 7/15\n",
            "40000/40000 [==============================] - 1s 18us/step - loss: 0.1674 - acc: 0.9374 - val_loss: 0.3020 - val_acc: 0.8799\n"
          ],
          "name": "stdout"
        }
      ]
    },
    {
      "cell_type": "code",
      "metadata": {
        "id": "DovFkV_BONKY",
        "colab_type": "code",
        "outputId": "98432fd5-94e6-411c-caac-52f02c19d3b9",
        "colab": {
          "base_uri": "https://localhost:8080/",
          "height": 573
        }
      },
      "source": [
        "# Plot training & validation accuracy values\n",
        "plt.plot(history.history['acc'])\n",
        "plt.plot(history.history['val_acc'])\n",
        "plt.title('Model accuracy')\n",
        "plt.ylabel('Accuracy')\n",
        "plt.xlabel('Epoch')\n",
        "plt.legend(['Train', 'Test'], loc='upper left')\n",
        "plt.show()\n",
        "\n",
        "# Plot training & validation loss values\n",
        "plt.plot(history.history['loss'])\n",
        "plt.plot(history.history['val_loss'])\n",
        "plt.title('Model loss')\n",
        "plt.ylabel('Loss')\n",
        "plt.xlabel('Epoch')\n",
        "plt.legend(['Train', 'Test'], loc='upper left')\n",
        "plt.show()"
      ],
      "execution_count": 0,
      "outputs": [
        {
          "output_type": "display_data",
          "data": {
            "image/png": "[encoded data removed]",
            "text/plain": [
              "<Figure size 432x288 with 1 Axes>"
            ]
          },
          "metadata": {
            "tags": []
          }
        },
        {
          "output_type": "display_data",
          "data": {
            "image/png": "[encoded data removed]",
            "text/plain": [
              "<Figure size 432x288 with 1 Axes>"
            ]
          },
          "metadata": {
            "tags": []
          }
        }
      ]
    },
    {
      "cell_type": "code",
      "metadata": {
        "id": "PrzG6gzsOPxR",
        "colab_type": "code",
        "colab": {}
      },
      "source": [
        ""
      ],
      "execution_count": 0,
      "outputs": []
    }
  ]
}